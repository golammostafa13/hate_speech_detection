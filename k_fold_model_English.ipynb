{
 "cells": [
  {
   "cell_type": "code",
   "execution_count": 1,
   "id": "1d991f1e",
   "metadata": {},
   "outputs": [
    {
     "name": "stderr",
     "output_type": "stream",
     "text": [
      "2022-04-04 23:30:34.075475: W tensorflow/stream_executor/platform/default/dso_loader.cc:64] Could not load dynamic library 'libcudart.so.11.0'; dlerror: libcudart.so.11.0: cannot open shared object file: No such file or directory\n",
      "2022-04-04 23:30:34.075560: I tensorflow/stream_executor/cuda/cudart_stub.cc:29] Ignore above cudart dlerror if you do not have a GPU set up on your machine.\n",
      "[nltk_data] Error loading stopwords: <urlopen error [Errno -2] Name or\n",
      "[nltk_data]     service not known>\n"
     ]
    }
   ],
   "source": [
    "from tensorflow.keras.models import Sequential\n",
    "from tensorflow.keras.layers import Dense, Conv1D\n",
    "from tensorflow.keras.optimizers import Adam\n",
    "from sklearn.model_selection import KFold\n",
    "import numpy as np\n",
    "import pandas as pd\n",
    "import pandas as pd\n",
    "import numpy as np\n",
    "import tensorflow as tf\n",
    "from tensorflow.keras.preprocessing.text import one_hot,Tokenizer\n",
    "from tensorflow.keras.preprocessing.sequence import pad_sequences\n",
    "from tensorflow.keras.layers import Dense , Flatten ,Embedding,Input,LSTM, Bidirectional, Dense, Dropout,GRU,SpatialDropout1D, Conv1D\n",
    "from tensorflow.keras.models import Model, Sequential\n",
    "from tensorflow.keras.preprocessing.text import text_to_word_sequence\n",
    "from tensorflow.keras.initializers import Constant\n",
    "from sklearn.preprocessing import LabelEncoder\n",
    "from keras.utils import np_utils\n",
    "from wordcloud import WordCloud, STOPWORDS\n",
    "import re\n",
    "import nltk\n",
    "stemmer = nltk.SnowballStemmer(\"english\")\n",
    "from nltk.corpus import stopwords\n",
    "import string\n",
    "nltk.download('stopwords')\n",
    "stopword=set(stopwords.words('english'))"
   ]
  },
  {
   "cell_type": "code",
   "execution_count": 2,
   "id": "0e53486a",
   "metadata": {},
   "outputs": [],
   "source": [
    "file = 'content_english/english/train_tweets.csv'\n",
    "data_train = pd.read_csv(file, encoding='latin-1')\n",
    "file = 'content_english/english/test_tweets.csv'\n",
    "data_test = pd.read_csv(file, encoding='latin-1')"
   ]
  },
  {
   "cell_type": "code",
   "execution_count": 3,
   "id": "c3fa7c75",
   "metadata": {},
   "outputs": [
    {
     "data": {
      "text/html": [
       "<div>\n",
       "<style scoped>\n",
       "    .dataframe tbody tr th:only-of-type {\n",
       "        vertical-align: middle;\n",
       "    }\n",
       "\n",
       "    .dataframe tbody tr th {\n",
       "        vertical-align: top;\n",
       "    }\n",
       "\n",
       "    .dataframe thead th {\n",
       "        text-align: right;\n",
       "    }\n",
       "</style>\n",
       "<table border=\"1\" class=\"dataframe\">\n",
       "  <thead>\n",
       "    <tr style=\"text-align: right;\">\n",
       "      <th></th>\n",
       "      <th>id</th>\n",
       "      <th>label</th>\n",
       "      <th>tweet</th>\n",
       "    </tr>\n",
       "  </thead>\n",
       "  <tbody>\n",
       "    <tr>\n",
       "      <th>0</th>\n",
       "      <td>1</td>\n",
       "      <td>0</td>\n",
       "      <td>@user when a father is dysfunctional and is s...</td>\n",
       "    </tr>\n",
       "    <tr>\n",
       "      <th>1</th>\n",
       "      <td>2</td>\n",
       "      <td>0</td>\n",
       "      <td>@user @user thanks for #lyft credit i can't us...</td>\n",
       "    </tr>\n",
       "    <tr>\n",
       "      <th>2</th>\n",
       "      <td>3</td>\n",
       "      <td>0</td>\n",
       "      <td>bihday your majesty</td>\n",
       "    </tr>\n",
       "    <tr>\n",
       "      <th>3</th>\n",
       "      <td>4</td>\n",
       "      <td>0</td>\n",
       "      <td>#model   i love u take with u all the time in ...</td>\n",
       "    </tr>\n",
       "    <tr>\n",
       "      <th>4</th>\n",
       "      <td>5</td>\n",
       "      <td>0</td>\n",
       "      <td>factsguide: society now    #motivation</td>\n",
       "    </tr>\n",
       "  </tbody>\n",
       "</table>\n",
       "</div>"
      ],
      "text/plain": [
       "   id  label                                              tweet\n",
       "0   1      0   @user when a father is dysfunctional and is s...\n",
       "1   2      0  @user @user thanks for #lyft credit i can't us...\n",
       "2   3      0                                bihday your majesty\n",
       "3   4      0  #model   i love u take with u all the time in ...\n",
       "4   5      0             factsguide: society now    #motivation"
      ]
     },
     "execution_count": 3,
     "metadata": {},
     "output_type": "execute_result"
    }
   ],
   "source": [
    "data_train.head()"
   ]
  },
  {
   "cell_type": "code",
   "execution_count": 4,
   "id": "72bdda47",
   "metadata": {},
   "outputs": [
    {
     "data": {
      "text/html": [
       "<div>\n",
       "<style scoped>\n",
       "    .dataframe tbody tr th:only-of-type {\n",
       "        vertical-align: middle;\n",
       "    }\n",
       "\n",
       "    .dataframe tbody tr th {\n",
       "        vertical-align: top;\n",
       "    }\n",
       "\n",
       "    .dataframe thead th {\n",
       "        text-align: right;\n",
       "    }\n",
       "</style>\n",
       "<table border=\"1\" class=\"dataframe\">\n",
       "  <thead>\n",
       "    <tr style=\"text-align: right;\">\n",
       "      <th></th>\n",
       "      <th>id</th>\n",
       "      <th>tweet</th>\n",
       "    </tr>\n",
       "  </thead>\n",
       "  <tbody>\n",
       "    <tr>\n",
       "      <th>0</th>\n",
       "      <td>31963</td>\n",
       "      <td>#studiolife #aislife #requires #passion #dedic...</td>\n",
       "    </tr>\n",
       "    <tr>\n",
       "      <th>1</th>\n",
       "      <td>31964</td>\n",
       "      <td>@user #white #supremacists want everyone to s...</td>\n",
       "    </tr>\n",
       "    <tr>\n",
       "      <th>2</th>\n",
       "      <td>31965</td>\n",
       "      <td>safe ways to heal your #acne!!    #altwaystohe...</td>\n",
       "    </tr>\n",
       "    <tr>\n",
       "      <th>3</th>\n",
       "      <td>31966</td>\n",
       "      <td>is the hp and the cursed child book up for res...</td>\n",
       "    </tr>\n",
       "    <tr>\n",
       "      <th>4</th>\n",
       "      <td>31967</td>\n",
       "      <td>3rd #bihday to my amazing, hilarious #nephew...</td>\n",
       "    </tr>\n",
       "  </tbody>\n",
       "</table>\n",
       "</div>"
      ],
      "text/plain": [
       "      id                                              tweet\n",
       "0  31963  #studiolife #aislife #requires #passion #dedic...\n",
       "1  31964   @user #white #supremacists want everyone to s...\n",
       "2  31965  safe ways to heal your #acne!!    #altwaystohe...\n",
       "3  31966  is the hp and the cursed child book up for res...\n",
       "4  31967    3rd #bihday to my amazing, hilarious #nephew..."
      ]
     },
     "execution_count": 4,
     "metadata": {},
     "output_type": "execute_result"
    }
   ],
   "source": [
    "data_test.head()"
   ]
  },
  {
   "cell_type": "code",
   "execution_count": 4,
   "id": "c642b778",
   "metadata": {},
   "outputs": [],
   "source": [
    "def clean_text(text):\n",
    "    text = str(text).lower()\n",
    "    text = re.sub('\\[.*?\\]', '', text)\n",
    "    text = re.sub('https?://\\S+|www\\.\\S+', '', text)\n",
    "    text = re.sub('<.*?>+', '', text)\n",
    "    text = re.sub('[%s]' % re.escape(string.punctuation), '', text)\n",
    "    text = re.sub('\\n', '', text)\n",
    "    text = re.sub('\\w*\\d\\w*', '', text)\n",
    "    text = [word for word in text.split(' ') if word not in stopword]\n",
    "    text=\" \".join(text)\n",
    "    text = [stemmer.stem(word) for word in text.split(' ')]\n",
    "    text=\" \".join(text)\n",
    "    return text"
   ]
  },
  {
   "cell_type": "code",
   "execution_count": 5,
   "id": "f772836a",
   "metadata": {},
   "outputs": [
    {
     "name": "stdout",
     "output_type": "stream",
     "text": [
      "\u001b[33mWARNING: Retrying (Retry(total=4, connect=None, read=None, redirect=None, status=None)) after connection broken by 'NewConnectionError('<pip._vendor.urllib3.connection.HTTPSConnection object at 0x7f5c8b2d5070>: Failed to establish a new connection: [Errno -2] Name or service not known')': /simple/nltk/\u001b[0m\u001b[33m\n",
      "\u001b[0m\u001b[33mWARNING: Retrying (Retry(total=3, connect=None, read=None, redirect=None, status=None)) after connection broken by 'NewConnectionError('<pip._vendor.urllib3.connection.HTTPSConnection object at 0x7f5c8b2d5370>: Failed to establish a new connection: [Errno -2] Name or service not known')': /simple/nltk/\u001b[0m\u001b[33m\n",
      "\u001b[0m\u001b[33mWARNING: Retrying (Retry(total=2, connect=None, read=None, redirect=None, status=None)) after connection broken by 'NewConnectionError('<pip._vendor.urllib3.connection.HTTPSConnection object at 0x7f5c8b2d55e0>: Failed to establish a new connection: [Errno -2] Name or service not known')': /simple/nltk/\u001b[0m\u001b[33m\n",
      "\u001b[0m\u001b[33mWARNING: Retrying (Retry(total=1, connect=None, read=None, redirect=None, status=None)) after connection broken by 'NewConnectionError('<pip._vendor.urllib3.connection.HTTPSConnection object at 0x7f5c8b2d5790>: Failed to establish a new connection: [Errno -2] Name or service not known')': /simple/nltk/\u001b[0m\u001b[33m\n",
      "\u001b[0m\u001b[33mWARNING: Retrying (Retry(total=0, connect=None, read=None, redirect=None, status=None)) after connection broken by 'NewConnectionError('<pip._vendor.urllib3.connection.HTTPSConnection object at 0x7f5c8b2d5940>: Failed to establish a new connection: [Errno -2] Name or service not known')': /simple/nltk/\u001b[0m\u001b[33m\n",
      "\u001b[0m\u001b[31mERROR: Could not find a version that satisfies the requirement nltk (from versions: none)\u001b[0m\u001b[31m\n",
      "\u001b[0m\u001b[31mERROR: No matching distribution found for nltk\u001b[0m\u001b[31m\n",
      "\u001b[0m"
     ]
    },
    {
     "name": "stderr",
     "output_type": "stream",
     "text": [
      "[nltk_data] Error loading wordnet: <urlopen error [Errno -2] Name or\n",
      "[nltk_data]     service not known>\n"
     ]
    }
   ],
   "source": [
    "from nltk import WordNetLemmatizer\n",
    "def tokenize(text):\n",
    "    text = re.split('\\s+' ,text)\n",
    "    return [x.lower() for x in text]\n",
    "def remove_small_words(text):\n",
    "    return [x for x in text if len(x) > 2 ]\n",
    "def remove_stopwords(text):\n",
    "    return [word for word in text if word not in nltk.corpus.stopwords.words('english')]\n",
    "\n",
    "def lemmatize(text):\n",
    "    word_net = WordNetLemmatizer()\n",
    "    return [word_net.lemmatize(word) for word in text]\n",
    "def return_sentences(tokens):\n",
    "    return \" \".join([word for word in tokens])\n",
    "\n",
    "data_train['tokens'] = data_train['tweet'].apply(lambda msg : tokenize(msg))\n",
    "data_train['tokens'] = data_train['tokens'].apply(lambda x : remove_small_words(x))\n",
    "data_train['tokens'] = data_train['tokens'].apply(lambda x : remove_stopwords(x))\n",
    "data_train['tokens'] = data_train['tokens'].apply(lambda x : lemmatize(x))\n",
    "data_train['clean_text'] = data_train['tokens'].apply(lambda x : return_sentences(x))\n",
    "\n",
    "\n",
    "data_test['tokens'] = data_test['tweet'].apply(lambda msg : tokenize(msg))\n",
    "data_test['tokens'] = data_test['tokens'].apply(lambda x : remove_small_words(x))\n",
    "data_test['tokens'] = data_test['tokens'].apply(lambda x : remove_stopwords(x))\n",
    "data_test['tokens'] = data_test['tokens'].apply(lambda x : lemmatize(x))\n",
    "data_test['clean_text'] = data_test['tokens'].apply(lambda x : return_sentences(x))"
   ]
  },
  {
   "cell_type": "code",
   "execution_count": 6,
   "id": "5039569b",
   "metadata": {},
   "outputs": [
    {
     "data": {
      "text/plain": [
       "((25569,), (6393,), (25569,), (6393,))"
      ]
     },
     "execution_count": 6,
     "metadata": {},
     "output_type": "execute_result"
    }
   ],
   "source": [
    "from sklearn.model_selection import train_test_split\n",
    "X_train, X_test, y_train, y_test = train_test_split(data_train['clean_text'], data_train['label'],random_state = 0,test_size = 0.2)\n",
    "X_train.shape,X_test.shape,y_train.shape,y_test.shape"
   ]
  },
  {
   "cell_type": "code",
   "execution_count": 7,
   "id": "00db1aee",
   "metadata": {},
   "outputs": [
    {
     "name": "stdout",
     "output_type": "stream",
     "text": [
      "Vocabulary Size : 38895\n",
      "Training X Shape: (25569, 60)\n",
      "Testing X Shape: (6393, 60)\n"
     ]
    }
   ],
   "source": [
    "from keras.preprocessing.text import Tokenizer\n",
    "\n",
    "tokenizer = Tokenizer()\n",
    "tokenizer.fit_on_texts(X_train)\n",
    "\n",
    "word_index = tokenizer.word_index\n",
    "vocab_size = len(tokenizer.word_index) + 1\n",
    "print(\"Vocabulary Size :\", vocab_size)\n",
    "\n",
    "MAX_SEQUENCE_LENGTH = 60\n",
    "\n",
    "from keras.preprocessing.sequence import pad_sequences\n",
    "\n",
    "x_train = pad_sequences(tokenizer.texts_to_sequences(X_train),\n",
    "                        maxlen = MAX_SEQUENCE_LENGTH)\n",
    "x_test = pad_sequences(tokenizer.texts_to_sequences(X_test),\n",
    "                       maxlen = MAX_SEQUENCE_LENGTH)\n",
    "\n",
    "print(\"Training X Shape:\",x_train.shape)\n",
    "print(\"Testing X Shape:\",x_test.shape)"
   ]
  },
  {
   "cell_type": "code",
   "execution_count": 8,
   "id": "a788a4e7",
   "metadata": {},
   "outputs": [
    {
     "name": "stdout",
     "output_type": "stream",
     "text": [
      "(25569, 1) (6393, 1)\n"
     ]
    }
   ],
   "source": [
    "y_train = y_train.values.reshape(-1, 1)\n",
    "y_test = y_test.values.reshape(-1, 1)\n",
    "print(y_train.shape, y_test.shape)"
   ]
  },
  {
   "cell_type": "code",
   "execution_count": 15,
   "id": "b61585d1",
   "metadata": {},
   "outputs": [],
   "source": [
    "# Model configuration\n",
    "batch_size = 64\n",
    "no_classes = 100\n",
    "no_epochs = 5\n",
    "optimizer = Adam()\n",
    "verbosity = 1\n",
    "num_folds = 10"
   ]
  },
  {
   "cell_type": "code",
   "execution_count": 16,
   "id": "143f1a74",
   "metadata": {},
   "outputs": [
    {
     "data": {
      "text/plain": [
       "((31962, 60), (31962, 1))"
      ]
     },
     "execution_count": 16,
     "metadata": {},
     "output_type": "execute_result"
    }
   ],
   "source": [
    "# Define per-fold score containers\n",
    "acc_per_fold = []\n",
    "loss_per_fold = []\n",
    "\n",
    "# Merge inputs and targets\n",
    "inputs = np.concatenate((x_train, x_test), axis=0)\n",
    "targets = np.concatenate((y_train, y_test), axis=0)\n",
    "inputs.shape, targets.shape"
   ]
  },
  {
   "cell_type": "code",
   "execution_count": 11,
   "id": "c7b020ce",
   "metadata": {},
   "outputs": [],
   "source": [
    "from keras.layers import Layer\n",
    "from keras import backend as K\n",
    "class attention(Layer):\n",
    "    def __init__(self,**kwargs):\n",
    "        super(attention,self).__init__(**kwargs)\n",
    "\n",
    "    def build(self,input_shape):\n",
    "        self.W=self.add_weight(name=\"att_weight\",shape=(input_shape[-1],1),initializer=\"normal\")\n",
    "        self.b=self.add_weight(name=\"att_bias\",shape=(input_shape[1],1),initializer=\"zeros\")        \n",
    "        super(attention, self).build(input_shape)\n",
    "\n",
    "    def call(self,x):\n",
    "        et=K.squeeze(K.tanh(K.dot(x,self.W)+self.b),axis=-1)\n",
    "        at=K.softmax(et)\n",
    "        at=K.expand_dims(at,axis=-1)\n",
    "        output=x*at\n",
    "        return K.sum(output,axis=1)\n",
    "\n",
    "    def compute_output_shape(self,input_shape):\n",
    "        return (input_shape[0],input_shape[-1])\n",
    "\n",
    "    def get_config(self):\n",
    "        return super(attention,self).get_config()"
   ]
  },
  {
   "cell_type": "code",
   "execution_count": 42,
   "id": "d8c66aa7",
   "metadata": {
    "collapsed": true
   },
   "outputs": [
    {
     "data": {
      "text/plain": [
       "(array([[    0,     0,     0, ...,     2,   639,  2501],\n",
       "        [    0,     0,     0, ..., 13533, 13534,  8643],\n",
       "        [    0,     0,     0, ...,   686,   238,  3529],\n",
       "        ...,\n",
       "        [    0,     0,     0, ...,   839,   539,    53],\n",
       "        [    0,     0,     0, ...,   898,   159,   474],\n",
       "        [    0,     0,     0, ...,  6020,  9428,    30]], dtype=int32),\n",
       " array([[0],\n",
       "        [0],\n",
       "        [0],\n",
       "        ...,\n",
       "        [0],\n",
       "        [1],\n",
       "        [0]]))"
      ]
     },
     "execution_count": 42,
     "metadata": {},
     "output_type": "execute_result"
    }
   ],
   "source": [
    "inputs, targets"
   ]
  },
  {
   "cell_type": "code",
   "execution_count": 43,
   "id": "7540d048",
   "metadata": {
    "collapsed": true
   },
   "outputs": [
    {
     "name": "stdout",
     "output_type": "stream",
     "text": [
      "['trump', 'clinton', 'leading,', 'american', 'choose', 'lesser', 'evil..', 'na-mds', 'bernie', 'sanders..']\n"
     ]
    }
   ],
   "source": [
    "Word2vec_train_data = list(map(lambda x: x.split(), X_train))\n",
    "print(Word2vec_train_data[5])"
   ]
  },
  {
   "cell_type": "code",
   "execution_count": 45,
   "id": "3d734c16",
   "metadata": {},
   "outputs": [],
   "source": [
    "EMBEDDING_DIM = 100\n",
    "from gensim.models import Word2Vec\n",
    "word2vec_model = Word2Vec(Word2vec_train_data,\n",
    "                 vector_size=EMBEDDING_DIM,\n",
    "                 workers=3,\n",
    "                 min_count=4)"
   ]
  },
  {
   "cell_type": "code",
   "execution_count": 46,
   "id": "ee5fb663",
   "metadata": {},
   "outputs": [],
   "source": [
    "word2vec_model.save('word2vec_model.model')"
   ]
  },
  {
   "cell_type": "code",
   "execution_count": 47,
   "id": "6d8302c7",
   "metadata": {},
   "outputs": [
    {
     "name": "stdout",
     "output_type": "stream",
     "text": [
      "Embedding Matrix Shape: (38895, 100)\n"
     ]
    }
   ],
   "source": [
    "embedding_matrix = np.zeros((vocab_size, EMBEDDING_DIM))\n",
    "\n",
    "for word, token in tokenizer.word_index.items():\n",
    "    if word2vec_model.wv.__contains__(word):\n",
    "        embedding_matrix[token] = word2vec_model.wv.__getitem__(word)\n",
    "\n",
    "print(\"Embedding Matrix Shape:\", embedding_matrix.shape)"
   ]
  },
  {
   "cell_type": "code",
   "execution_count": 50,
   "id": "8db22ad3",
   "metadata": {
    "collapsed": true
   },
   "outputs": [
    {
     "data": {
      "text/plain": [
       "'1'"
      ]
     },
     "execution_count": 50,
     "metadata": {},
     "output_type": "execute_result"
    }
   ],
   "source": [
    "str(1)"
   ]
  },
  {
   "cell_type": "code",
   "execution_count": 52,
   "id": "2b0fbfb9",
   "metadata": {
    "collapsed": true
   },
   "outputs": [
    {
     "name": "stderr",
     "output_type": "stream",
     "text": [
      "2022-03-27 03:20:03.767755: W tensorflow/core/framework/cpu_allocator_impl.cc:82] Allocation of 15558000 exceeds 10% of free system memory.\n"
     ]
    },
    {
     "name": "stdout",
     "output_type": "stream",
     "text": [
      "------------------------------------------------------------------------\n",
      "Training for fold 1 ...\n",
      "Epoch 1/5\n",
      "450/450 [==============================] - 642s 1s/step - loss: 0.2486 - accuracy: 0.9289\n",
      "Epoch 2/5\n",
      "450/450 [==============================] - 619s 1s/step - loss: 0.2217 - accuracy: 0.9324\n",
      "Epoch 3/5\n",
      "450/450 [==============================] - 602s 1s/step - loss: 0.2110 - accuracy: 0.9347\n",
      "Epoch 4/5\n",
      "450/450 [==============================] - 518s 1s/step - loss: 0.2043 - accuracy: 0.9354\n",
      "Epoch 5/5\n",
      "450/450 [==============================] - 523s 1s/step - loss: 0.2002 - accuracy: 0.9358\n"
     ]
    },
    {
     "name": "stderr",
     "output_type": "stream",
     "text": [
      "2022-03-27 04:09:06.563425: W tensorflow/python/util/util.cc:368] Sets are not currently considered sequences, but this may change in the future, so consider avoiding using them.\n",
      "2022-03-27 04:09:38.003473: W tensorflow/core/framework/cpu_allocator_impl.cc:82] Allocation of 15558000 exceeds 10% of free system memory.\n"
     ]
    },
    {
     "name": "stdout",
     "output_type": "stream",
     "text": [
      "INFO:tensorflow:Assets written to: content_english/models/1model/assets\n"
     ]
    },
    {
     "name": "stderr",
     "output_type": "stream",
     "text": [
      "WARNING:absl:<keras.layers.recurrent.GRUCell object at 0x7fbde68d4490> has the same name 'GRUCell' as a built-in Keras object. Consider renaming <class 'keras.layers.recurrent.GRUCell'> to avoid naming conflicts when loading with `tf.keras.models.load_model`. If renaming is not possible, pass the object in the `custom_objects` parameter of the load function.\n",
      "WARNING:absl:<keras.layers.recurrent.GRUCell object at 0x7fbde68d4610> has the same name 'GRUCell' as a built-in Keras object. Consider renaming <class 'keras.layers.recurrent.GRUCell'> to avoid naming conflicts when loading with `tf.keras.models.load_model`. If renaming is not possible, pass the object in the `custom_objects` parameter of the load function.\n",
      "WARNING:absl:<keras.layers.recurrent.GRUCell object at 0x7fbde6800430> has the same name 'GRUCell' as a built-in Keras object. Consider renaming <class 'keras.layers.recurrent.GRUCell'> to avoid naming conflicts when loading with `tf.keras.models.load_model`. If renaming is not possible, pass the object in the `custom_objects` parameter of the load function.\n",
      "WARNING:absl:<keras.layers.recurrent.GRUCell object at 0x7fbde6839d00> has the same name 'GRUCell' as a built-in Keras object. Consider renaming <class 'keras.layers.recurrent.GRUCell'> to avoid naming conflicts when loading with `tf.keras.models.load_model`. If renaming is not possible, pass the object in the `custom_objects` parameter of the load function.\n"
     ]
    },
    {
     "name": "stdout",
     "output_type": "stream",
     "text": [
      "Score for fold 1: loss of 0.2090567946434021; accuracy of 93.7441349029541%\n"
     ]
    },
    {
     "name": "stderr",
     "output_type": "stream",
     "text": [
      "2022-03-27 04:10:16.054192: W tensorflow/core/framework/cpu_allocator_impl.cc:82] Allocation of 15558000 exceeds 10% of free system memory.\n"
     ]
    },
    {
     "name": "stdout",
     "output_type": "stream",
     "text": [
      "------------------------------------------------------------------------\n",
      "Training for fold 2 ...\n",
      "Epoch 1/5\n",
      "450/450 [==============================] - 729s 2s/step - loss: 0.2485 - accuracy: 0.9298\n",
      "Epoch 2/5\n",
      "450/450 [==============================] - 384s 852ms/step - loss: 0.2216 - accuracy: 0.9315\n",
      "Epoch 3/5\n",
      "450/450 [==============================] - 368s 817ms/step - loss: 0.2125 - accuracy: 0.9332\n",
      "Epoch 4/5\n",
      "450/450 [==============================] - 367s 816ms/step - loss: 0.2047 - accuracy: 0.9346\n",
      "Epoch 5/5\n",
      "450/450 [==============================] - 366s 814ms/step - loss: 0.1965 - accuracy: 0.9360\n",
      "INFO:tensorflow:Assets written to: content_english/models/2model/assets\n"
     ]
    },
    {
     "name": "stderr",
     "output_type": "stream",
     "text": [
      "INFO:tensorflow:Assets written to: content_english/models/2model/assets\n",
      "WARNING:absl:<keras.layers.recurrent.GRUCell object at 0x7fbdabed5940> has the same name 'GRUCell' as a built-in Keras object. Consider renaming <class 'keras.layers.recurrent.GRUCell'> to avoid naming conflicts when loading with `tf.keras.models.load_model`. If renaming is not possible, pass the object in the `custom_objects` parameter of the load function.\n",
      "WARNING:absl:<keras.layers.recurrent.GRUCell object at 0x7fbdcc6242e0> has the same name 'GRUCell' as a built-in Keras object. Consider renaming <class 'keras.layers.recurrent.GRUCell'> to avoid naming conflicts when loading with `tf.keras.models.load_model`. If renaming is not possible, pass the object in the `custom_objects` parameter of the load function.\n",
      "WARNING:absl:<keras.layers.recurrent.GRUCell object at 0x7fbdcc94ee20> has the same name 'GRUCell' as a built-in Keras object. Consider renaming <class 'keras.layers.recurrent.GRUCell'> to avoid naming conflicts when loading with `tf.keras.models.load_model`. If renaming is not possible, pass the object in the `custom_objects` parameter of the load function.\n",
      "WARNING:absl:<keras.layers.recurrent.GRUCell object at 0x7fbde63b4190> has the same name 'GRUCell' as a built-in Keras object. Consider renaming <class 'keras.layers.recurrent.GRUCell'> to avoid naming conflicts when loading with `tf.keras.models.load_model`. If renaming is not possible, pass the object in the `custom_objects` parameter of the load function.\n"
     ]
    },
    {
     "name": "stdout",
     "output_type": "stream",
     "text": [
      "Score for fold 2: loss of 0.20801396667957306; accuracy of 93.27494502067566%\n",
      "------------------------------------------------------------------------\n",
      "Training for fold 3 ...\n",
      "Epoch 1/5\n",
      "450/450 [==============================] - 380s 811ms/step - loss: 0.2450 - accuracy: 0.9286\n",
      "Epoch 2/5\n",
      "450/450 [==============================] - 361s 802ms/step - loss: 0.2201 - accuracy: 0.9326\n",
      "Epoch 3/5\n",
      "450/450 [==============================] - 367s 815ms/step - loss: 0.2096 - accuracy: 0.9346\n",
      "Epoch 4/5\n",
      "450/450 [==============================] - 361s 802ms/step - loss: 0.2047 - accuracy: 0.9350\n",
      "Epoch 5/5\n",
      "450/450 [==============================] - 362s 805ms/step - loss: 0.2002 - accuracy: 0.9355\n",
      "INFO:tensorflow:Assets written to: content_english/models/3model/assets\n"
     ]
    },
    {
     "name": "stderr",
     "output_type": "stream",
     "text": [
      "INFO:tensorflow:Assets written to: content_english/models/3model/assets\n",
      "WARNING:absl:<keras.layers.recurrent.GRUCell object at 0x7fbde7da0af0> has the same name 'GRUCell' as a built-in Keras object. Consider renaming <class 'keras.layers.recurrent.GRUCell'> to avoid naming conflicts when loading with `tf.keras.models.load_model`. If renaming is not possible, pass the object in the `custom_objects` parameter of the load function.\n",
      "WARNING:absl:<keras.layers.recurrent.GRUCell object at 0x7fbdabef5bb0> has the same name 'GRUCell' as a built-in Keras object. Consider renaming <class 'keras.layers.recurrent.GRUCell'> to avoid naming conflicts when loading with `tf.keras.models.load_model`. If renaming is not possible, pass the object in the `custom_objects` parameter of the load function.\n",
      "WARNING:absl:<keras.layers.recurrent.GRUCell object at 0x7fbde7ea3370> has the same name 'GRUCell' as a built-in Keras object. Consider renaming <class 'keras.layers.recurrent.GRUCell'> to avoid naming conflicts when loading with `tf.keras.models.load_model`. If renaming is not possible, pass the object in the `custom_objects` parameter of the load function.\n",
      "WARNING:absl:<keras.layers.recurrent.GRUCell object at 0x7fbdcc6b8670> has the same name 'GRUCell' as a built-in Keras object. Consider renaming <class 'keras.layers.recurrent.GRUCell'> to avoid naming conflicts when loading with `tf.keras.models.load_model`. If renaming is not possible, pass the object in the `custom_objects` parameter of the load function.\n"
     ]
    },
    {
     "name": "stdout",
     "output_type": "stream",
     "text": [
      "Score for fold 3: loss of 0.2031553089618683; accuracy of 93.46057772636414%\n",
      "------------------------------------------------------------------------\n",
      "Training for fold 4 ...\n",
      "Epoch 1/5\n",
      "450/450 [==============================] - 376s 807ms/step - loss: 0.2482 - accuracy: 0.9281\n",
      "Epoch 2/5\n",
      "450/450 [==============================] - 364s 810ms/step - loss: 0.2214 - accuracy: 0.9320\n",
      "Epoch 3/5\n",
      "450/450 [==============================] - 408s 906ms/step - loss: 0.2096 - accuracy: 0.9348\n",
      "Epoch 4/5\n",
      "450/450 [==============================] - 413s 917ms/step - loss: 0.2030 - accuracy: 0.9355\n",
      "Epoch 5/5\n",
      "450/450 [==============================] - 417s 926ms/step - loss: 0.1987 - accuracy: 0.9357\n",
      "INFO:tensorflow:Assets written to: content_english/models/4model/assets\n"
     ]
    },
    {
     "name": "stderr",
     "output_type": "stream",
     "text": [
      "INFO:tensorflow:Assets written to: content_english/models/4model/assets\n",
      "WARNING:absl:<keras.layers.recurrent.GRUCell object at 0x7fbde73a9bb0> has the same name 'GRUCell' as a built-in Keras object. Consider renaming <class 'keras.layers.recurrent.GRUCell'> to avoid naming conflicts when loading with `tf.keras.models.load_model`. If renaming is not possible, pass the object in the `custom_objects` parameter of the load function.\n",
      "WARNING:absl:<keras.layers.recurrent.GRUCell object at 0x7fbdece54c70> has the same name 'GRUCell' as a built-in Keras object. Consider renaming <class 'keras.layers.recurrent.GRUCell'> to avoid naming conflicts when loading with `tf.keras.models.load_model`. If renaming is not possible, pass the object in the `custom_objects` parameter of the load function.\n",
      "WARNING:absl:<keras.layers.recurrent.GRUCell object at 0x7fbde6f62fa0> has the same name 'GRUCell' as a built-in Keras object. Consider renaming <class 'keras.layers.recurrent.GRUCell'> to avoid naming conflicts when loading with `tf.keras.models.load_model`. If renaming is not possible, pass the object in the `custom_objects` parameter of the load function.\n",
      "WARNING:absl:<keras.layers.recurrent.GRUCell object at 0x7fbde6f74a60> has the same name 'GRUCell' as a built-in Keras object. Consider renaming <class 'keras.layers.recurrent.GRUCell'> to avoid naming conflicts when loading with `tf.keras.models.load_model`. If renaming is not possible, pass the object in the `custom_objects` parameter of the load function.\n"
     ]
    },
    {
     "name": "stdout",
     "output_type": "stream",
     "text": [
      "Score for fold 4: loss of 0.20997881889343262; accuracy of 93.27284097671509%\n",
      "------------------------------------------------------------------------\n",
      "Training for fold 5 ...\n",
      "Epoch 1/5\n",
      "450/450 [==============================] - 430s 920ms/step - loss: 0.2436 - accuracy: 0.9285\n",
      "Epoch 2/5\n",
      "450/450 [==============================] - 416s 925ms/step - loss: 0.2219 - accuracy: 0.9335\n",
      "Epoch 3/5\n",
      "450/450 [==============================] - 411s 914ms/step - loss: 0.2109 - accuracy: 0.9348\n",
      "Epoch 4/5\n",
      "450/450 [==============================] - 414s 921ms/step - loss: 0.2027 - accuracy: 0.9356\n",
      "Epoch 5/5\n",
      "450/450 [==============================] - 416s 924ms/step - loss: 0.2004 - accuracy: 0.9358\n",
      "INFO:tensorflow:Assets written to: content_english/models/5model/assets\n"
     ]
    },
    {
     "name": "stderr",
     "output_type": "stream",
     "text": [
      "INFO:tensorflow:Assets written to: content_english/models/5model/assets\n",
      "WARNING:absl:<keras.layers.recurrent.GRUCell object at 0x7fbde7310a60> has the same name 'GRUCell' as a built-in Keras object. Consider renaming <class 'keras.layers.recurrent.GRUCell'> to avoid naming conflicts when loading with `tf.keras.models.load_model`. If renaming is not possible, pass the object in the `custom_objects` parameter of the load function.\n",
      "WARNING:absl:<keras.layers.recurrent.GRUCell object at 0x7fbde7310280> has the same name 'GRUCell' as a built-in Keras object. Consider renaming <class 'keras.layers.recurrent.GRUCell'> to avoid naming conflicts when loading with `tf.keras.models.load_model`. If renaming is not possible, pass the object in the `custom_objects` parameter of the load function.\n",
      "WARNING:absl:<keras.layers.recurrent.GRUCell object at 0x7fbde7072c10> has the same name 'GRUCell' as a built-in Keras object. Consider renaming <class 'keras.layers.recurrent.GRUCell'> to avoid naming conflicts when loading with `tf.keras.models.load_model`. If renaming is not possible, pass the object in the `custom_objects` parameter of the load function.\n",
      "WARNING:absl:<keras.layers.recurrent.GRUCell object at 0x7fbde62c25e0> has the same name 'GRUCell' as a built-in Keras object. Consider renaming <class 'keras.layers.recurrent.GRUCell'> to avoid naming conflicts when loading with `tf.keras.models.load_model`. If renaming is not possible, pass the object in the `custom_objects` parameter of the load function.\n"
     ]
    },
    {
     "name": "stdout",
     "output_type": "stream",
     "text": [
      "Score for fold 5: loss of 0.20757953822612762; accuracy of 92.95995235443115%\n",
      "------------------------------------------------------------------------\n",
      "Training for fold 6 ...\n",
      "Epoch 1/5\n",
      "450/450 [==============================] - 429s 920ms/step - loss: 0.2482 - accuracy: 0.9282\n",
      "Epoch 2/5\n",
      "450/450 [==============================] - 412s 915ms/step - loss: 0.2221 - accuracy: 0.9316\n",
      "Epoch 3/5\n",
      "450/450 [==============================] - 415s 922ms/step - loss: 0.2117 - accuracy: 0.9337\n",
      "Epoch 4/5\n",
      "450/450 [==============================] - 415s 920ms/step - loss: 0.2071 - accuracy: 0.9344\n",
      "Epoch 5/5\n",
      "450/450 [==============================] - 415s 922ms/step - loss: 0.2020 - accuracy: 0.9348\n",
      "INFO:tensorflow:Assets written to: content_english/models/6model/assets\n"
     ]
    },
    {
     "name": "stderr",
     "output_type": "stream",
     "text": [
      "INFO:tensorflow:Assets written to: content_english/models/6model/assets\n",
      "WARNING:absl:<keras.layers.recurrent.GRUCell object at 0x7fbde69665e0> has the same name 'GRUCell' as a built-in Keras object. Consider renaming <class 'keras.layers.recurrent.GRUCell'> to avoid naming conflicts when loading with `tf.keras.models.load_model`. If renaming is not possible, pass the object in the `custom_objects` parameter of the load function.\n",
      "WARNING:absl:<keras.layers.recurrent.GRUCell object at 0x7fbde7c2c5b0> has the same name 'GRUCell' as a built-in Keras object. Consider renaming <class 'keras.layers.recurrent.GRUCell'> to avoid naming conflicts when loading with `tf.keras.models.load_model`. If renaming is not possible, pass the object in the `custom_objects` parameter of the load function.\n",
      "WARNING:absl:<keras.layers.recurrent.GRUCell object at 0x7fbde6623b50> has the same name 'GRUCell' as a built-in Keras object. Consider renaming <class 'keras.layers.recurrent.GRUCell'> to avoid naming conflicts when loading with `tf.keras.models.load_model`. If renaming is not possible, pass the object in the `custom_objects` parameter of the load function.\n",
      "WARNING:absl:<keras.layers.recurrent.GRUCell object at 0x7fbde6600d90> has the same name 'GRUCell' as a built-in Keras object. Consider renaming <class 'keras.layers.recurrent.GRUCell'> to avoid naming conflicts when loading with `tf.keras.models.load_model`. If renaming is not possible, pass the object in the `custom_objects` parameter of the load function.\n"
     ]
    },
    {
     "name": "stdout",
     "output_type": "stream",
     "text": [
      "Score for fold 6: loss of 0.183108389377594; accuracy of 94.30538415908813%\n",
      "------------------------------------------------------------------------\n",
      "Training for fold 7 ...\n",
      "Epoch 1/5\n",
      "450/450 [==============================] - 434s 930ms/step - loss: 0.2459 - accuracy: 0.9290\n",
      "Epoch 2/5\n",
      "450/450 [==============================] - 420s 933ms/step - loss: 0.2228 - accuracy: 0.9321\n",
      "Epoch 3/5\n",
      "450/450 [==============================] - 415s 921ms/step - loss: 0.2127 - accuracy: 0.9345\n",
      "Epoch 4/5\n",
      "450/450 [==============================] - 419s 931ms/step - loss: 0.2063 - accuracy: 0.9351\n",
      "Epoch 5/5\n",
      "450/450 [==============================] - 415s 922ms/step - loss: 0.2024 - accuracy: 0.9353\n",
      "INFO:tensorflow:Assets written to: content_english/models/7model/assets\n"
     ]
    },
    {
     "name": "stderr",
     "output_type": "stream",
     "text": [
      "INFO:tensorflow:Assets written to: content_english/models/7model/assets\n",
      "WARNING:absl:<keras.layers.recurrent.GRUCell object at 0x7fbde742cc40> has the same name 'GRUCell' as a built-in Keras object. Consider renaming <class 'keras.layers.recurrent.GRUCell'> to avoid naming conflicts when loading with `tf.keras.models.load_model`. If renaming is not possible, pass the object in the `custom_objects` parameter of the load function.\n",
      "WARNING:absl:<keras.layers.recurrent.GRUCell object at 0x7fbdab428af0> has the same name 'GRUCell' as a built-in Keras object. Consider renaming <class 'keras.layers.recurrent.GRUCell'> to avoid naming conflicts when loading with `tf.keras.models.load_model`. If renaming is not possible, pass the object in the `custom_objects` parameter of the load function.\n",
      "WARNING:absl:<keras.layers.recurrent.GRUCell object at 0x7fbde7433e20> has the same name 'GRUCell' as a built-in Keras object. Consider renaming <class 'keras.layers.recurrent.GRUCell'> to avoid naming conflicts when loading with `tf.keras.models.load_model`. If renaming is not possible, pass the object in the `custom_objects` parameter of the load function.\n",
      "WARNING:absl:<keras.layers.recurrent.GRUCell object at 0x7fbde7401dc0> has the same name 'GRUCell' as a built-in Keras object. Consider renaming <class 'keras.layers.recurrent.GRUCell'> to avoid naming conflicts when loading with `tf.keras.models.load_model`. If renaming is not possible, pass the object in the `custom_objects` parameter of the load function.\n"
     ]
    },
    {
     "name": "stdout",
     "output_type": "stream",
     "text": [
      "Score for fold 7: loss of 0.1980753093957901; accuracy of 93.52315664291382%\n",
      "------------------------------------------------------------------------\n",
      "Training for fold 8 ...\n",
      "Epoch 1/5\n",
      "450/450 [==============================] - 432s 926ms/step - loss: 0.2453 - accuracy: 0.9296\n",
      "Epoch 2/5\n",
      "450/450 [==============================] - 412s 916ms/step - loss: 0.2206 - accuracy: 0.9320\n",
      "Epoch 3/5\n",
      "450/450 [==============================] - 412s 915ms/step - loss: 0.2123 - accuracy: 0.9341\n",
      "Epoch 4/5\n",
      "450/450 [==============================] - 419s 930ms/step - loss: 0.2068 - accuracy: 0.9343\n",
      "Epoch 5/5\n",
      "450/450 [==============================] - 416s 924ms/step - loss: 0.2023 - accuracy: 0.9349\n",
      "INFO:tensorflow:Assets written to: content_english/models/8model/assets\n"
     ]
    },
    {
     "name": "stderr",
     "output_type": "stream",
     "text": [
      "INFO:tensorflow:Assets written to: content_english/models/8model/assets\n",
      "WARNING:absl:<keras.layers.recurrent.GRUCell object at 0x7fbdcc476b80> has the same name 'GRUCell' as a built-in Keras object. Consider renaming <class 'keras.layers.recurrent.GRUCell'> to avoid naming conflicts when loading with `tf.keras.models.load_model`. If renaming is not possible, pass the object in the `custom_objects` parameter of the load function.\n",
      "WARNING:absl:<keras.layers.recurrent.GRUCell object at 0x7fbde78b0e20> has the same name 'GRUCell' as a built-in Keras object. Consider renaming <class 'keras.layers.recurrent.GRUCell'> to avoid naming conflicts when loading with `tf.keras.models.load_model`. If renaming is not possible, pass the object in the `custom_objects` parameter of the load function.\n",
      "WARNING:absl:<keras.layers.recurrent.GRUCell object at 0x7fbde6402c10> has the same name 'GRUCell' as a built-in Keras object. Consider renaming <class 'keras.layers.recurrent.GRUCell'> to avoid naming conflicts when loading with `tf.keras.models.load_model`. If renaming is not possible, pass the object in the `custom_objects` parameter of the load function.\n",
      "WARNING:absl:<keras.layers.recurrent.GRUCell object at 0x7fbde642fc70> has the same name 'GRUCell' as a built-in Keras object. Consider renaming <class 'keras.layers.recurrent.GRUCell'> to avoid naming conflicts when loading with `tf.keras.models.load_model`. If renaming is not possible, pass the object in the `custom_objects` parameter of the load function.\n"
     ]
    },
    {
     "name": "stdout",
     "output_type": "stream",
     "text": [
      "Score for fold 8: loss of 0.19146662950515747; accuracy of 93.83604526519775%\n",
      "------------------------------------------------------------------------\n",
      "Training for fold 9 ...\n",
      "Epoch 1/5\n",
      "450/450 [==============================] - 429s 917ms/step - loss: 0.2435 - accuracy: 0.9287\n",
      "Epoch 2/5\n",
      "450/450 [==============================] - 414s 919ms/step - loss: 0.2219 - accuracy: 0.9313\n",
      "Epoch 3/5\n",
      "450/450 [==============================] - 412s 916ms/step - loss: 0.2136 - accuracy: 0.9336\n",
      "Epoch 4/5\n",
      "450/450 [==============================] - 415s 923ms/step - loss: 0.2069 - accuracy: 0.9348\n",
      "Epoch 5/5\n",
      "450/450 [==============================] - 417s 927ms/step - loss: 0.2027 - accuracy: 0.9351\n",
      "INFO:tensorflow:Assets written to: content_english/models/9model/assets\n"
     ]
    },
    {
     "name": "stderr",
     "output_type": "stream",
     "text": [
      "INFO:tensorflow:Assets written to: content_english/models/9model/assets\n",
      "WARNING:absl:<keras.layers.recurrent.GRUCell object at 0x7fbde7d08220> has the same name 'GRUCell' as a built-in Keras object. Consider renaming <class 'keras.layers.recurrent.GRUCell'> to avoid naming conflicts when loading with `tf.keras.models.load_model`. If renaming is not possible, pass the object in the `custom_objects` parameter of the load function.\n",
      "WARNING:absl:<keras.layers.recurrent.GRUCell object at 0x7fbdece2e1c0> has the same name 'GRUCell' as a built-in Keras object. Consider renaming <class 'keras.layers.recurrent.GRUCell'> to avoid naming conflicts when loading with `tf.keras.models.load_model`. If renaming is not possible, pass the object in the `custom_objects` parameter of the load function.\n",
      "WARNING:absl:<keras.layers.recurrent.GRUCell object at 0x7fbdcc0d4130> has the same name 'GRUCell' as a built-in Keras object. Consider renaming <class 'keras.layers.recurrent.GRUCell'> to avoid naming conflicts when loading with `tf.keras.models.load_model`. If renaming is not possible, pass the object in the `custom_objects` parameter of the load function.\n",
      "WARNING:absl:<keras.layers.recurrent.GRUCell object at 0x7fbda9148760> has the same name 'GRUCell' as a built-in Keras object. Consider renaming <class 'keras.layers.recurrent.GRUCell'> to avoid naming conflicts when loading with `tf.keras.models.load_model`. If renaming is not possible, pass the object in the `custom_objects` parameter of the load function.\n"
     ]
    },
    {
     "name": "stdout",
     "output_type": "stream",
     "text": [
      "Score for fold 9: loss of 0.19126370549201965; accuracy of 94.11764740943909%\n",
      "------------------------------------------------------------------------\n",
      "Training for fold 10 ...\n",
      "Epoch 1/5\n",
      "450/450 [==============================] - 430s 925ms/step - loss: 0.2467 - accuracy: 0.9301\n",
      "Epoch 2/5\n",
      "450/450 [==============================] - 414s 920ms/step - loss: 0.2219 - accuracy: 0.9321\n",
      "Epoch 3/5\n",
      "450/450 [==============================] - 420s 934ms/step - loss: 0.2146 - accuracy: 0.9337\n",
      "Epoch 4/5\n",
      "450/450 [==============================] - 415s 923ms/step - loss: 0.2056 - accuracy: 0.9351\n",
      "Epoch 5/5\n",
      "450/450 [==============================] - 395s 878ms/step - loss: 0.2014 - accuracy: 0.9357\n",
      "INFO:tensorflow:Assets written to: content_english/models/10model/assets\n"
     ]
    },
    {
     "name": "stderr",
     "output_type": "stream",
     "text": [
      "INFO:tensorflow:Assets written to: content_english/models/10model/assets\n",
      "WARNING:absl:<keras.layers.recurrent.GRUCell object at 0x7fbde7db3af0> has the same name 'GRUCell' as a built-in Keras object. Consider renaming <class 'keras.layers.recurrent.GRUCell'> to avoid naming conflicts when loading with `tf.keras.models.load_model`. If renaming is not possible, pass the object in the `custom_objects` parameter of the load function.\n",
      "WARNING:absl:<keras.layers.recurrent.GRUCell object at 0x7fbdaa147fd0> has the same name 'GRUCell' as a built-in Keras object. Consider renaming <class 'keras.layers.recurrent.GRUCell'> to avoid naming conflicts when loading with `tf.keras.models.load_model`. If renaming is not possible, pass the object in the `custom_objects` parameter of the load function.\n",
      "WARNING:absl:<keras.layers.recurrent.GRUCell object at 0x7fbdcc07a0d0> has the same name 'GRUCell' as a built-in Keras object. Consider renaming <class 'keras.layers.recurrent.GRUCell'> to avoid naming conflicts when loading with `tf.keras.models.load_model`. If renaming is not possible, pass the object in the `custom_objects` parameter of the load function.\n",
      "WARNING:absl:<keras.layers.recurrent.GRUCell object at 0x7fbdabc3b0d0> has the same name 'GRUCell' as a built-in Keras object. Consider renaming <class 'keras.layers.recurrent.GRUCell'> to avoid naming conflicts when loading with `tf.keras.models.load_model`. If renaming is not possible, pass the object in the `custom_objects` parameter of the load function.\n"
     ]
    },
    {
     "name": "stdout",
     "output_type": "stream",
     "text": [
      "Score for fold 10: loss of 0.193878173828125; accuracy of 93.52315664291382%\n",
      "------------------------------------------------------------------------\n",
      "Score per fold\n",
      "------------------------------------------------------------------------\n",
      "> Fold 1 - Loss: 0.2090567946434021 - Accuracy: 93.7441349029541%\n",
      "------------------------------------------------------------------------\n",
      "> Fold 2 - Loss: 0.20801396667957306 - Accuracy: 93.27494502067566%\n",
      "------------------------------------------------------------------------\n",
      "> Fold 3 - Loss: 0.2031553089618683 - Accuracy: 93.46057772636414%\n",
      "------------------------------------------------------------------------\n",
      "> Fold 4 - Loss: 0.20997881889343262 - Accuracy: 93.27284097671509%\n",
      "------------------------------------------------------------------------\n",
      "> Fold 5 - Loss: 0.20757953822612762 - Accuracy: 92.95995235443115%\n",
      "------------------------------------------------------------------------\n",
      "> Fold 6 - Loss: 0.183108389377594 - Accuracy: 94.30538415908813%\n",
      "------------------------------------------------------------------------\n",
      "> Fold 7 - Loss: 0.1980753093957901 - Accuracy: 93.52315664291382%\n",
      "------------------------------------------------------------------------\n",
      "> Fold 8 - Loss: 0.19146662950515747 - Accuracy: 93.83604526519775%\n",
      "------------------------------------------------------------------------\n",
      "> Fold 9 - Loss: 0.19126370549201965 - Accuracy: 94.11764740943909%\n",
      "------------------------------------------------------------------------\n",
      "> Fold 10 - Loss: 0.193878173828125 - Accuracy: 93.52315664291382%\n",
      "------------------------------------------------------------------------\n",
      "Average scores for all folds:\n",
      "> Accuracy: 93.60178411006927 (+- 0.38672848195042464)\n",
      "> Loss: 0.19955766350030898\n",
      "------------------------------------------------------------------------\n"
     ]
    }
   ],
   "source": [
    "# Define the K-fold Cross Validator\n",
    "kfold = KFold(n_splits=num_folds, shuffle=True)\n",
    "\n",
    "# K-fold Cross Validation model evaluation\n",
    "fold_no = 1\n",
    "for train, test in kfold.split(inputs, targets):\n",
    "\n",
    "  # Define the model architecture\n",
    "    model=Sequential()\n",
    "    embedding_layer=Embedding(vocab_size,\n",
    "                        EMBEDDING_DIM,\n",
    "                        embeddings_initializer=Constant(embedding_matrix),\n",
    "                        input_length=60,\n",
    "                        trainable=False)  \n",
    "    model.add(embedding_layer)\n",
    "    model.add(Bidirectional(GRU(units=128, return_sequences = True, dropout=0.25, recurrent_dropout=0.25)))\n",
    "    model.add(Bidirectional(GRU(units=128, return_sequences = True, dropout=0.25, recurrent_dropout=0.25)))\n",
    "    model.add(attention())\n",
    "    model.add(Dense(256, activation='relu'))\n",
    "    model.add(Dropout(0.25))\n",
    "    model.add(Dense(256, activation='relu'))\n",
    "    model.add(Dense(1,activation='sigmoid'))\n",
    "    model.compile(loss='binary_crossentropy',optimizer='adam',metrics=['accuracy'])\n",
    "  # model.summary()\n",
    "\n",
    "  # Generate a print\n",
    "    print('------------------------------------------------------------------------')\n",
    "    print(f'Training for fold {fold_no} ...')\n",
    "\n",
    "  # Fit data to model\n",
    "    history = model.fit(inputs[train], targets[train],\n",
    "              batch_size=batch_size,\n",
    "              epochs=no_epochs,\n",
    "              verbose=verbosity)\n",
    "    model_path = \"content_english/models/\" + str(fold_no) + \"model\"\n",
    "    \n",
    "    # convert the history.history dict to a pandas DataFrame:     \n",
    "    hist_df = pd.DataFrame(history.history) \n",
    "\n",
    "    # save to json:  \n",
    "    hist_json_file = \"content_english/History/\" + str(fold_no) + 'history.json' \n",
    "    with open(hist_json_file, mode='w') as f:\n",
    "        hist_df.to_json(f)\n",
    "            \n",
    "    #save model\n",
    "    model.save(model_path)\n",
    "    \n",
    "  # Generate generalization metrics\n",
    "    scores = model.evaluate(inputs[test], targets[test], verbose=0)\n",
    "    print(f'Score for fold {fold_no}: {model.metrics_names[0]} of {scores[0]}; {model.metrics_names[1]} of {scores[1]*100}%')\n",
    "    acc_per_fold.append(scores[1] * 100)\n",
    "    loss_per_fold.append(scores[0])\n",
    "  # Increase fold number\n",
    "    fold_no = fold_no + 1\n",
    "\n",
    "  # == Provide average scores ==\n",
    "print('------------------------------------------------------------------------')\n",
    "print('Score per fold')\n",
    "for i in range(0, len(acc_per_fold)):\n",
    "    print('------------------------------------------------------------------------')\n",
    "    print(f'> Fold {i+1} - Loss: {loss_per_fold[i]} - Accuracy: {acc_per_fold[i]}%')\n",
    "print('------------------------------------------------------------------------')\n",
    "print('Average scores for all folds:')\n",
    "print(f'> Accuracy: {np.mean(acc_per_fold)} (+- {np.std(acc_per_fold)})')\n",
    "print(f'> Loss: {np.mean(loss_per_fold)}')\n",
    "print('------------------------------------------------------------------------')"
   ]
  },
  {
   "cell_type": "code",
   "execution_count": 12,
   "id": "c80c5626",
   "metadata": {},
   "outputs": [
    {
     "name": "stdout",
     "output_type": "stream",
     "text": [
      "['trump', 'clinton', 'leading,', 'american', 'choose', 'lesser', 'evil..', 'na-mds', 'bernie', 'sanders..']\n"
     ]
    },
    {
     "name": "stderr",
     "output_type": "stream",
     "text": [
      "/home/mostafa/env/lib/python3.8/site-packages/gensim/similarities/__init__.py:15: UserWarning: The gensim.similarities.levenshtein submodule is disabled, because the optional Levenshtein package <https://pypi.org/project/python-Levenshtein/> is unavailable. Install Levenhstein (e.g. `pip install python-Levenshtein`) to suppress this warning.\n",
      "  warnings.warn(msg)\n"
     ]
    }
   ],
   "source": [
    "fastText_train_data = list(map(lambda x: x.split(), X_train))\n",
    "print(fastText_train_data[5])\n",
    "EMBEDDING_DIM = 100\n",
    "from gensim.models import FastText\n",
    "fastText_model = FastText(fastText_train_data,\n",
    "                 vector_size=EMBEDDING_DIM,\n",
    "                 workers=3,\n",
    "                 min_count=4)"
   ]
  },
  {
   "cell_type": "code",
   "execution_count": 56,
   "id": "a4917d52",
   "metadata": {},
   "outputs": [],
   "source": [
    "fastText_model.save('content_english/fastText_model.model')"
   ]
  },
  {
   "cell_type": "code",
   "execution_count": 13,
   "id": "5b27855d",
   "metadata": {},
   "outputs": [
    {
     "name": "stdout",
     "output_type": "stream",
     "text": [
      "Embedding Matrix Shape: (38895, 100)\n"
     ]
    }
   ],
   "source": [
    "embedding_matrix = np.zeros((vocab_size, EMBEDDING_DIM))\n",
    "\n",
    "for word, token in tokenizer.word_index.items():\n",
    "    if fastText_model.wv.__contains__(word):\n",
    "        embedding_matrix[token] = fastText_model.wv.__getitem__(word)\n",
    "\n",
    "print(\"Embedding Matrix Shape:\", embedding_matrix.shape)"
   ]
  },
  {
   "cell_type": "code",
   "execution_count": 14,
   "id": "4319a3fa",
   "metadata": {
    "collapsed": true
   },
   "outputs": [
    {
     "name": "stdout",
     "output_type": "stream",
     "text": [
      "------------------------------------------------------------------------\n",
      "Training for fold 1 ...\n",
      "Epoch 1/5\n",
      "450/450 [==============================] - 498s 1s/step - loss: 0.2216 - accuracy: 0.9289\n",
      "Epoch 2/5\n",
      "450/450 [==============================] - 367s 816ms/step - loss: 0.1894 - accuracy: 0.9351\n",
      "Epoch 3/5\n",
      "450/450 [==============================] - 368s 818ms/step - loss: 0.1838 - accuracy: 0.9368\n",
      "Epoch 4/5\n",
      "450/450 [==============================] - 390s 866ms/step - loss: 0.1780 - accuracy: 0.9378\n",
      "Epoch 5/5\n",
      "450/450 [==============================] - 429s 953ms/step - loss: 0.1749 - accuracy: 0.9393\n",
      "INFO:tensorflow:Assets written to: content_english/models_fasttext/1model/assets\n"
     ]
    },
    {
     "name": "stderr",
     "output_type": "stream",
     "text": [
      "INFO:tensorflow:Assets written to: content_english/models_fasttext/1model/assets\n",
      "WARNING:absl:<keras.layers.recurrent.GRUCell object at 0x7fa2b4da4f40> has the same name 'GRUCell' as a built-in Keras object. Consider renaming <class 'keras.layers.recurrent.GRUCell'> to avoid naming conflicts when loading with `tf.keras.models.load_model`. If renaming is not possible, pass the object in the `custom_objects` parameter of the load function.\n",
      "WARNING:absl:<keras.layers.recurrent.GRUCell object at 0x7fa2b4da4610> has the same name 'GRUCell' as a built-in Keras object. Consider renaming <class 'keras.layers.recurrent.GRUCell'> to avoid naming conflicts when loading with `tf.keras.models.load_model`. If renaming is not possible, pass the object in the `custom_objects` parameter of the load function.\n",
      "WARNING:absl:<keras.layers.recurrent.GRUCell object at 0x7fa2b472adc0> has the same name 'GRUCell' as a built-in Keras object. Consider renaming <class 'keras.layers.recurrent.GRUCell'> to avoid naming conflicts when loading with `tf.keras.models.load_model`. If renaming is not possible, pass the object in the `custom_objects` parameter of the load function.\n",
      "WARNING:absl:<keras.layers.recurrent.GRUCell object at 0x7fa2b472a370> has the same name 'GRUCell' as a built-in Keras object. Consider renaming <class 'keras.layers.recurrent.GRUCell'> to avoid naming conflicts when loading with `tf.keras.models.load_model`. If renaming is not possible, pass the object in the `custom_objects` parameter of the load function.\n"
     ]
    },
    {
     "name": "stdout",
     "output_type": "stream",
     "text": [
      "Score for fold 1: loss of 0.19717951118946075; accuracy of 93.40006113052368%\n",
      "------------------------------------------------------------------------\n",
      "Training for fold 2 ...\n",
      "Epoch 1/5\n",
      "450/450 [==============================] - 570s 1s/step - loss: 0.2188 - accuracy: 0.9282\n",
      "Epoch 2/5\n",
      "450/450 [==============================] - 417s 927ms/step - loss: 0.1946 - accuracy: 0.9339\n",
      "Epoch 3/5\n",
      "450/450 [==============================] - 404s 898ms/step - loss: 0.1847 - accuracy: 0.9363\n",
      "Epoch 4/5\n",
      "450/450 [==============================] - 423s 941ms/step - loss: 0.1830 - accuracy: 0.9357\n",
      "Epoch 5/5\n",
      "450/450 [==============================] - 418s 929ms/step - loss: 0.1782 - accuracy: 0.9383\n",
      "INFO:tensorflow:Assets written to: content_english/models_fasttext/2model/assets\n"
     ]
    },
    {
     "name": "stderr",
     "output_type": "stream",
     "text": [
      "INFO:tensorflow:Assets written to: content_english/models_fasttext/2model/assets\n",
      "WARNING:absl:<keras.layers.recurrent.GRUCell object at 0x7fa27d6f8ca0> has the same name 'GRUCell' as a built-in Keras object. Consider renaming <class 'keras.layers.recurrent.GRUCell'> to avoid naming conflicts when loading with `tf.keras.models.load_model`. If renaming is not possible, pass the object in the `custom_objects` parameter of the load function.\n",
      "WARNING:absl:<keras.layers.recurrent.GRUCell object at 0x7fa27d6f85e0> has the same name 'GRUCell' as a built-in Keras object. Consider renaming <class 'keras.layers.recurrent.GRUCell'> to avoid naming conflicts when loading with `tf.keras.models.load_model`. If renaming is not possible, pass the object in the `custom_objects` parameter of the load function.\n",
      "WARNING:absl:<keras.layers.recurrent.GRUCell object at 0x7fa2b4637c10> has the same name 'GRUCell' as a built-in Keras object. Consider renaming <class 'keras.layers.recurrent.GRUCell'> to avoid naming conflicts when loading with `tf.keras.models.load_model`. If renaming is not possible, pass the object in the `custom_objects` parameter of the load function.\n",
      "WARNING:absl:<keras.layers.recurrent.GRUCell object at 0x7fa277747280> has the same name 'GRUCell' as a built-in Keras object. Consider renaming <class 'keras.layers.recurrent.GRUCell'> to avoid naming conflicts when loading with `tf.keras.models.load_model`. If renaming is not possible, pass the object in the `custom_objects` parameter of the load function.\n"
     ]
    },
    {
     "name": "stdout",
     "output_type": "stream",
     "text": [
      "Score for fold 2: loss of 0.16356654465198517; accuracy of 94.55739855766296%\n",
      "------------------------------------------------------------------------\n",
      "Training for fold 3 ...\n",
      "Epoch 1/5\n",
      "450/450 [==============================] - 585s 1s/step - loss: 0.2190 - accuracy: 0.9279\n",
      "Epoch 2/5\n",
      "450/450 [==============================] - 711s 2s/step - loss: 0.1917 - accuracy: 0.9335\n",
      "Epoch 3/5\n",
      "450/450 [==============================] - 534s 1s/step - loss: 0.1854 - accuracy: 0.9369\n",
      "Epoch 4/5\n",
      "450/450 [==============================] - 568s 1s/step - loss: 0.1799 - accuracy: 0.9368\n",
      "Epoch 5/5\n",
      "450/450 [==============================] - 576s 1s/step - loss: 0.1789 - accuracy: 0.9377\n",
      "INFO:tensorflow:Assets written to: content_english/models_fasttext/3model/assets\n"
     ]
    },
    {
     "name": "stderr",
     "output_type": "stream",
     "text": [
      "INFO:tensorflow:Assets written to: content_english/models_fasttext/3model/assets\n",
      "WARNING:absl:<keras.layers.recurrent.GRUCell object at 0x7fa2ada3f340> has the same name 'GRUCell' as a built-in Keras object. Consider renaming <class 'keras.layers.recurrent.GRUCell'> to avoid naming conflicts when loading with `tf.keras.models.load_model`. If renaming is not possible, pass the object in the `custom_objects` parameter of the load function.\n",
      "WARNING:absl:<keras.layers.recurrent.GRUCell object at 0x7fa2afc932b0> has the same name 'GRUCell' as a built-in Keras object. Consider renaming <class 'keras.layers.recurrent.GRUCell'> to avoid naming conflicts when loading with `tf.keras.models.load_model`. If renaming is not possible, pass the object in the `custom_objects` parameter of the load function.\n",
      "WARNING:absl:<keras.layers.recurrent.GRUCell object at 0x7fa33e110610> has the same name 'GRUCell' as a built-in Keras object. Consider renaming <class 'keras.layers.recurrent.GRUCell'> to avoid naming conflicts when loading with `tf.keras.models.load_model`. If renaming is not possible, pass the object in the `custom_objects` parameter of the load function.\n",
      "WARNING:absl:<keras.layers.recurrent.GRUCell object at 0x7fa2af82fc40> has the same name 'GRUCell' as a built-in Keras object. Consider renaming <class 'keras.layers.recurrent.GRUCell'> to avoid naming conflicts when loading with `tf.keras.models.load_model`. If renaming is not possible, pass the object in the `custom_objects` parameter of the load function.\n"
     ]
    },
    {
     "name": "stdout",
     "output_type": "stream",
     "text": [
      "Score for fold 3: loss of 0.1657007932662964; accuracy of 94.14893388748169%\n",
      "------------------------------------------------------------------------\n",
      "Training for fold 4 ...\n",
      "Epoch 1/5\n",
      "450/450 [==============================] - 501s 1s/step - loss: 0.2171 - accuracy: 0.9300\n",
      "Epoch 2/5\n",
      "450/450 [==============================] - 402s 893ms/step - loss: 0.1929 - accuracy: 0.9342\n",
      "Epoch 3/5\n",
      "450/450 [==============================] - 432s 960ms/step - loss: 0.1841 - accuracy: 0.9364\n",
      "Epoch 4/5\n",
      "450/450 [==============================] - 946s 2s/step - loss: 0.1807 - accuracy: 0.9378\n",
      "Epoch 5/5\n",
      "450/450 [==============================] - 998s 2s/step - loss: 0.1765 - accuracy: 0.9391\n",
      "INFO:tensorflow:Assets written to: content_english/models_fasttext/4model/assets\n"
     ]
    },
    {
     "name": "stderr",
     "output_type": "stream",
     "text": [
      "INFO:tensorflow:Assets written to: content_english/models_fasttext/4model/assets\n",
      "WARNING:absl:<keras.layers.recurrent.GRUCell object at 0x7fa2d405b250> has the same name 'GRUCell' as a built-in Keras object. Consider renaming <class 'keras.layers.recurrent.GRUCell'> to avoid naming conflicts when loading with `tf.keras.models.load_model`. If renaming is not possible, pass the object in the `custom_objects` parameter of the load function.\n",
      "WARNING:absl:<keras.layers.recurrent.GRUCell object at 0x7fa2d4108c70> has the same name 'GRUCell' as a built-in Keras object. Consider renaming <class 'keras.layers.recurrent.GRUCell'> to avoid naming conflicts when loading with `tf.keras.models.load_model`. If renaming is not possible, pass the object in the `custom_objects` parameter of the load function.\n",
      "WARNING:absl:<keras.layers.recurrent.GRUCell object at 0x7fa27d6ba9d0> has the same name 'GRUCell' as a built-in Keras object. Consider renaming <class 'keras.layers.recurrent.GRUCell'> to avoid naming conflicts when loading with `tf.keras.models.load_model`. If renaming is not possible, pass the object in the `custom_objects` parameter of the load function.\n",
      "WARNING:absl:<keras.layers.recurrent.GRUCell object at 0x7fa27d6ba9a0> has the same name 'GRUCell' as a built-in Keras object. Consider renaming <class 'keras.layers.recurrent.GRUCell'> to avoid naming conflicts when loading with `tf.keras.models.load_model`. If renaming is not possible, pass the object in the `custom_objects` parameter of the load function.\n"
     ]
    },
    {
     "name": "stdout",
     "output_type": "stream",
     "text": [
      "Score for fold 4: loss of 0.18245145678520203; accuracy of 93.71088743209839%\n",
      "------------------------------------------------------------------------\n",
      "Training for fold 5 ...\n",
      "Epoch 1/5\n",
      "450/450 [==============================] - 813s 2s/step - loss: 0.2204 - accuracy: 0.9290\n",
      "Epoch 2/5\n",
      "450/450 [==============================] - 846s 2s/step - loss: 0.1931 - accuracy: 0.9342\n",
      "Epoch 3/5\n",
      "450/450 [==============================] - 603s 1s/step - loss: 0.1854 - accuracy: 0.9355\n",
      "Epoch 4/5\n",
      "450/450 [==============================] - 391s 868ms/step - loss: 0.1815 - accuracy: 0.9372\n",
      "Epoch 5/5\n",
      "450/450 [==============================] - 390s 867ms/step - loss: 0.1783 - accuracy: 0.9384\n",
      "INFO:tensorflow:Assets written to: content_english/models_fasttext/5model/assets\n"
     ]
    },
    {
     "name": "stderr",
     "output_type": "stream",
     "text": [
      "INFO:tensorflow:Assets written to: content_english/models_fasttext/5model/assets\n",
      "WARNING:absl:<keras.layers.recurrent.GRUCell object at 0x7fa2b4b7a100> has the same name 'GRUCell' as a built-in Keras object. Consider renaming <class 'keras.layers.recurrent.GRUCell'> to avoid naming conflicts when loading with `tf.keras.models.load_model`. If renaming is not possible, pass the object in the `custom_objects` parameter of the load function.\n",
      "WARNING:absl:<keras.layers.recurrent.GRUCell object at 0x7fa2afe37280> has the same name 'GRUCell' as a built-in Keras object. Consider renaming <class 'keras.layers.recurrent.GRUCell'> to avoid naming conflicts when loading with `tf.keras.models.load_model`. If renaming is not possible, pass the object in the `custom_objects` parameter of the load function.\n",
      "WARNING:absl:<keras.layers.recurrent.GRUCell object at 0x7fa2b4ebb460> has the same name 'GRUCell' as a built-in Keras object. Consider renaming <class 'keras.layers.recurrent.GRUCell'> to avoid naming conflicts when loading with `tf.keras.models.load_model`. If renaming is not possible, pass the object in the `custom_objects` parameter of the load function.\n",
      "WARNING:absl:<keras.layers.recurrent.GRUCell object at 0x7fa2b4bb4dc0> has the same name 'GRUCell' as a built-in Keras object. Consider renaming <class 'keras.layers.recurrent.GRUCell'> to avoid naming conflicts when loading with `tf.keras.models.load_model`. If renaming is not possible, pass the object in the `custom_objects` parameter of the load function.\n"
     ]
    },
    {
     "name": "stdout",
     "output_type": "stream",
     "text": [
      "Score for fold 5: loss of 0.1545303910970688; accuracy of 94.68085169792175%\n",
      "------------------------------------------------------------------------\n",
      "Training for fold 6 ...\n",
      "Epoch 1/5\n",
      "450/450 [==============================] - 408s 874ms/step - loss: 0.2193 - accuracy: 0.9308\n",
      "Epoch 2/5\n",
      "450/450 [==============================] - 389s 863ms/step - loss: 0.1915 - accuracy: 0.9344\n",
      "Epoch 3/5\n",
      "450/450 [==============================] - 372s 826ms/step - loss: 0.1819 - accuracy: 0.9375\n",
      "Epoch 4/5\n",
      "450/450 [==============================] - 434s 964ms/step - loss: 0.1788 - accuracy: 0.9379\n",
      "Epoch 5/5\n",
      "450/450 [==============================] - 445s 989ms/step - loss: 0.1765 - accuracy: 0.9389\n",
      "INFO:tensorflow:Assets written to: content_english/models_fasttext/6model/assets\n"
     ]
    },
    {
     "name": "stderr",
     "output_type": "stream",
     "text": [
      "INFO:tensorflow:Assets written to: content_english/models_fasttext/6model/assets\n",
      "WARNING:absl:<keras.layers.recurrent.GRUCell object at 0x7fa33e0b3a60> has the same name 'GRUCell' as a built-in Keras object. Consider renaming <class 'keras.layers.recurrent.GRUCell'> to avoid naming conflicts when loading with `tf.keras.models.load_model`. If renaming is not possible, pass the object in the `custom_objects` parameter of the load function.\n",
      "WARNING:absl:<keras.layers.recurrent.GRUCell object at 0x7fa2ae1bf0a0> has the same name 'GRUCell' as a built-in Keras object. Consider renaming <class 'keras.layers.recurrent.GRUCell'> to avoid naming conflicts when loading with `tf.keras.models.load_model`. If renaming is not possible, pass the object in the `custom_objects` parameter of the load function.\n",
      "WARNING:absl:<keras.layers.recurrent.GRUCell object at 0x7fa25d97da60> has the same name 'GRUCell' as a built-in Keras object. Consider renaming <class 'keras.layers.recurrent.GRUCell'> to avoid naming conflicts when loading with `tf.keras.models.load_model`. If renaming is not possible, pass the object in the `custom_objects` parameter of the load function.\n",
      "WARNING:absl:<keras.layers.recurrent.GRUCell object at 0x7fa28d76f400> has the same name 'GRUCell' as a built-in Keras object. Consider renaming <class 'keras.layers.recurrent.GRUCell'> to avoid naming conflicts when loading with `tf.keras.models.load_model`. If renaming is not possible, pass the object in the `custom_objects` parameter of the load function.\n"
     ]
    },
    {
     "name": "stdout",
     "output_type": "stream",
     "text": [
      "Score for fold 6: loss of 0.19345630705356598; accuracy of 93.33541989326477%\n",
      "------------------------------------------------------------------------\n",
      "Training for fold 7 ...\n",
      "Epoch 1/5\n",
      "450/450 [==============================] - 457s 983ms/step - loss: 0.2181 - accuracy: 0.9298\n",
      "Epoch 2/5\n",
      "450/450 [==============================] - 441s 980ms/step - loss: 0.1930 - accuracy: 0.9337\n",
      "Epoch 3/5\n",
      "450/450 [==============================] - 446s 989ms/step - loss: 0.1855 - accuracy: 0.9359\n",
      "Epoch 4/5\n",
      "450/450 [==============================] - 442s 982ms/step - loss: 0.1816 - accuracy: 0.9378\n",
      "Epoch 5/5\n",
      "450/450 [==============================] - 440s 977ms/step - loss: 0.1780 - accuracy: 0.9388\n",
      "INFO:tensorflow:Assets written to: content_english/models_fasttext/7model/assets\n"
     ]
    },
    {
     "name": "stderr",
     "output_type": "stream",
     "text": [
      "INFO:tensorflow:Assets written to: content_english/models_fasttext/7model/assets\n",
      "WARNING:absl:<keras.layers.recurrent.GRUCell object at 0x7fa28cadc520> has the same name 'GRUCell' as a built-in Keras object. Consider renaming <class 'keras.layers.recurrent.GRUCell'> to avoid naming conflicts when loading with `tf.keras.models.load_model`. If renaming is not possible, pass the object in the `custom_objects` parameter of the load function.\n",
      "WARNING:absl:<keras.layers.recurrent.GRUCell object at 0x7fa28cadc2e0> has the same name 'GRUCell' as a built-in Keras object. Consider renaming <class 'keras.layers.recurrent.GRUCell'> to avoid naming conflicts when loading with `tf.keras.models.load_model`. If renaming is not possible, pass the object in the `custom_objects` parameter of the load function.\n",
      "WARNING:absl:<keras.layers.recurrent.GRUCell object at 0x7fa2b4cd8760> has the same name 'GRUCell' as a built-in Keras object. Consider renaming <class 'keras.layers.recurrent.GRUCell'> to avoid naming conflicts when loading with `tf.keras.models.load_model`. If renaming is not possible, pass the object in the `custom_objects` parameter of the load function.\n",
      "WARNING:absl:<keras.layers.recurrent.GRUCell object at 0x7fa2b413a5b0> has the same name 'GRUCell' as a built-in Keras object. Consider renaming <class 'keras.layers.recurrent.GRUCell'> to avoid naming conflicts when loading with `tf.keras.models.load_model`. If renaming is not possible, pass the object in the `custom_objects` parameter of the load function.\n"
     ]
    },
    {
     "name": "stdout",
     "output_type": "stream",
     "text": [
      "Score for fold 7: loss of 0.16641941666603088; accuracy of 93.92991065979004%\n",
      "------------------------------------------------------------------------\n",
      "Training for fold 8 ...\n",
      "Epoch 1/5\n",
      "450/450 [==============================] - 462s 991ms/step - loss: 0.2175 - accuracy: 0.9285\n",
      "Epoch 2/5\n",
      "450/450 [==============================] - 446s 992ms/step - loss: 0.1903 - accuracy: 0.9349\n",
      "Epoch 3/5\n",
      "450/450 [==============================] - 446s 992ms/step - loss: 0.1832 - accuracy: 0.9367\n",
      "Epoch 4/5\n",
      "450/450 [==============================] - 447s 994ms/step - loss: 0.1799 - accuracy: 0.9375\n",
      "Epoch 5/5\n",
      "450/450 [==============================] - 445s 990ms/step - loss: 0.1782 - accuracy: 0.9383\n",
      "INFO:tensorflow:Assets written to: content_english/models_fasttext/8model/assets\n"
     ]
    },
    {
     "name": "stderr",
     "output_type": "stream",
     "text": [
      "INFO:tensorflow:Assets written to: content_english/models_fasttext/8model/assets\n",
      "WARNING:absl:<keras.layers.recurrent.GRUCell object at 0x7fa2ad6c22b0> has the same name 'GRUCell' as a built-in Keras object. Consider renaming <class 'keras.layers.recurrent.GRUCell'> to avoid naming conflicts when loading with `tf.keras.models.load_model`. If renaming is not possible, pass the object in the `custom_objects` parameter of the load function.\n",
      "WARNING:absl:<keras.layers.recurrent.GRUCell object at 0x7fa2ad6c2a90> has the same name 'GRUCell' as a built-in Keras object. Consider renaming <class 'keras.layers.recurrent.GRUCell'> to avoid naming conflicts when loading with `tf.keras.models.load_model`. If renaming is not possible, pass the object in the `custom_objects` parameter of the load function.\n",
      "WARNING:absl:<keras.layers.recurrent.GRUCell object at 0x7fa2b4cbd970> has the same name 'GRUCell' as a built-in Keras object. Consider renaming <class 'keras.layers.recurrent.GRUCell'> to avoid naming conflicts when loading with `tf.keras.models.load_model`. If renaming is not possible, pass the object in the `custom_objects` parameter of the load function.\n",
      "WARNING:absl:<keras.layers.recurrent.GRUCell object at 0x7fa2b4cad9a0> has the same name 'GRUCell' as a built-in Keras object. Consider renaming <class 'keras.layers.recurrent.GRUCell'> to avoid naming conflicts when loading with `tf.keras.models.load_model`. If renaming is not possible, pass the object in the `custom_objects` parameter of the load function.\n"
     ]
    },
    {
     "name": "stdout",
     "output_type": "stream",
     "text": [
      "Score for fold 8: loss of 0.1791807860136032; accuracy of 93.6170220375061%\n",
      "------------------------------------------------------------------------\n",
      "Training for fold 9 ...\n",
      "Epoch 1/5\n",
      "450/450 [==============================] - 460s 988ms/step - loss: 0.2208 - accuracy: 0.9300\n",
      "Epoch 2/5\n",
      "450/450 [==============================] - 445s 987ms/step - loss: 0.1913 - accuracy: 0.9343\n",
      "Epoch 3/5\n",
      "450/450 [==============================] - 446s 992ms/step - loss: 0.1835 - accuracy: 0.9370\n",
      "Epoch 4/5\n",
      "450/450 [==============================] - 444s 985ms/step - loss: 0.1796 - accuracy: 0.9383\n",
      "Epoch 5/5\n",
      "450/450 [==============================] - 445s 988ms/step - loss: 0.1769 - accuracy: 0.9392\n",
      "INFO:tensorflow:Assets written to: content_english/models_fasttext/9model/assets\n"
     ]
    },
    {
     "name": "stderr",
     "output_type": "stream",
     "text": [
      "INFO:tensorflow:Assets written to: content_english/models_fasttext/9model/assets\n",
      "WARNING:absl:<keras.layers.recurrent.GRUCell object at 0x7fa2ad83bd60> has the same name 'GRUCell' as a built-in Keras object. Consider renaming <class 'keras.layers.recurrent.GRUCell'> to avoid naming conflicts when loading with `tf.keras.models.load_model`. If renaming is not possible, pass the object in the `custom_objects` parameter of the load function.\n",
      "WARNING:absl:<keras.layers.recurrent.GRUCell object at 0x7fa2ad83bc70> has the same name 'GRUCell' as a built-in Keras object. Consider renaming <class 'keras.layers.recurrent.GRUCell'> to avoid naming conflicts when loading with `tf.keras.models.load_model`. If renaming is not possible, pass the object in the `custom_objects` parameter of the load function.\n",
      "WARNING:absl:<keras.layers.recurrent.GRUCell object at 0x7fa2b4b7f580> has the same name 'GRUCell' as a built-in Keras object. Consider renaming <class 'keras.layers.recurrent.GRUCell'> to avoid naming conflicts when loading with `tf.keras.models.load_model`. If renaming is not possible, pass the object in the `custom_objects` parameter of the load function.\n",
      "WARNING:absl:<keras.layers.recurrent.GRUCell object at 0x7fa2764f3a00> has the same name 'GRUCell' as a built-in Keras object. Consider renaming <class 'keras.layers.recurrent.GRUCell'> to avoid naming conflicts when loading with `tf.keras.models.load_model`. If renaming is not possible, pass the object in the `custom_objects` parameter of the load function.\n"
     ]
    },
    {
     "name": "stdout",
     "output_type": "stream",
     "text": [
      "Score for fold 9: loss of 0.18089112639427185; accuracy of 93.6170220375061%\n",
      "------------------------------------------------------------------------\n",
      "Training for fold 10 ...\n",
      "Epoch 1/5\n",
      "450/450 [==============================] - 460s 990ms/step - loss: 0.2235 - accuracy: 0.9299\n",
      "Epoch 2/5\n",
      "450/450 [==============================] - 444s 986ms/step - loss: 0.1912 - accuracy: 0.9341\n",
      "Epoch 3/5\n",
      "450/450 [==============================] - 446s 991ms/step - loss: 0.1840 - accuracy: 0.9363\n",
      "Epoch 4/5\n",
      "450/450 [==============================] - 444s 986ms/step - loss: 0.1801 - accuracy: 0.9376\n",
      "Epoch 5/5\n",
      "450/450 [==============================] - 445s 988ms/step - loss: 0.1776 - accuracy: 0.9385\n",
      "INFO:tensorflow:Assets written to: content_english/models_fasttext/10model/assets\n"
     ]
    },
    {
     "name": "stderr",
     "output_type": "stream",
     "text": [
      "INFO:tensorflow:Assets written to: content_english/models_fasttext/10model/assets\n",
      "WARNING:absl:<keras.layers.recurrent.GRUCell object at 0x7fa2af554e50> has the same name 'GRUCell' as a built-in Keras object. Consider renaming <class 'keras.layers.recurrent.GRUCell'> to avoid naming conflicts when loading with `tf.keras.models.load_model`. If renaming is not possible, pass the object in the `custom_objects` parameter of the load function.\n",
      "WARNING:absl:<keras.layers.recurrent.GRUCell object at 0x7fa2af5542b0> has the same name 'GRUCell' as a built-in Keras object. Consider renaming <class 'keras.layers.recurrent.GRUCell'> to avoid naming conflicts when loading with `tf.keras.models.load_model`. If renaming is not possible, pass the object in the `custom_objects` parameter of the load function.\n",
      "WARNING:absl:<keras.layers.recurrent.GRUCell object at 0x7fa28cae2310> has the same name 'GRUCell' as a built-in Keras object. Consider renaming <class 'keras.layers.recurrent.GRUCell'> to avoid naming conflicts when loading with `tf.keras.models.load_model`. If renaming is not possible, pass the object in the `custom_objects` parameter of the load function.\n",
      "WARNING:absl:<keras.layers.recurrent.GRUCell object at 0x7fa28cac1f70> has the same name 'GRUCell' as a built-in Keras object. Consider renaming <class 'keras.layers.recurrent.GRUCell'> to avoid naming conflicts when loading with `tf.keras.models.load_model`. If renaming is not possible, pass the object in the `custom_objects` parameter of the load function.\n"
     ]
    },
    {
     "name": "stdout",
     "output_type": "stream",
     "text": [
      "Score for fold 10: loss of 0.1745366007089615; accuracy of 94.11764740943909%\n",
      "------------------------------------------------------------------------\n",
      "Score per fold\n",
      "------------------------------------------------------------------------\n",
      "> Fold 1 - Loss: 0.16640818119049072 - Accuracy: 94.43228244781494%\n",
      "------------------------------------------------------------------------\n",
      "> Fold 2 - Loss: 0.19717951118946075 - Accuracy: 93.40006113052368%\n",
      "------------------------------------------------------------------------\n",
      "> Fold 3 - Loss: 0.16356654465198517 - Accuracy: 94.55739855766296%\n",
      "------------------------------------------------------------------------\n",
      "> Fold 4 - Loss: 0.1657007932662964 - Accuracy: 94.14893388748169%\n",
      "------------------------------------------------------------------------\n",
      "> Fold 5 - Loss: 0.18245145678520203 - Accuracy: 93.71088743209839%\n",
      "------------------------------------------------------------------------\n",
      "> Fold 6 - Loss: 0.1545303910970688 - Accuracy: 94.68085169792175%\n",
      "------------------------------------------------------------------------\n",
      "> Fold 7 - Loss: 0.19345630705356598 - Accuracy: 93.33541989326477%\n",
      "------------------------------------------------------------------------\n",
      "> Fold 8 - Loss: 0.16641941666603088 - Accuracy: 93.92991065979004%\n",
      "------------------------------------------------------------------------\n",
      "> Fold 9 - Loss: 0.1791807860136032 - Accuracy: 93.6170220375061%\n",
      "------------------------------------------------------------------------\n",
      "> Fold 10 - Loss: 0.18089112639427185 - Accuracy: 93.6170220375061%\n",
      "------------------------------------------------------------------------\n",
      "> Fold 11 - Loss: 0.1745366007089615 - Accuracy: 94.11764740943909%\n",
      "------------------------------------------------------------------------\n",
      "Average scores for all folds:\n",
      "> Accuracy: 93.95885792645541 (+- 0.4433303039261815)\n",
      "> Loss: 0.17493828318335794\n",
      "------------------------------------------------------------------------\n"
     ]
    }
   ],
   "source": [
    "# Define the K-fold Cross Validator\n",
    "kfold = KFold(n_splits=num_folds, shuffle=True)\n",
    "\n",
    "# K-fold Cross Validation model evaluation\n",
    "fold_no = 1\n",
    "for train, test in kfold.split(inputs, targets):\n",
    "\n",
    "  # Define the model architecture\n",
    "    model=Sequential()\n",
    "    embedding_layer=Embedding(vocab_size,\n",
    "                        EMBEDDING_DIM,\n",
    "                        embeddings_initializer=Constant(embedding_matrix),\n",
    "                        input_length=60,\n",
    "                        trainable=False)  \n",
    "    model.add(embedding_layer)\n",
    "    model.add(Bidirectional(GRU(units=128, return_sequences = True, dropout=0.25, recurrent_dropout=0.25)))\n",
    "    model.add(Bidirectional(GRU(units=128, return_sequences = True, dropout=0.25, recurrent_dropout=0.25)))\n",
    "    model.add(attention())\n",
    "    model.add(Dense(256, activation='relu'))\n",
    "    model.add(Dropout(0.25))\n",
    "    model.add(Dense(256, activation='relu'))\n",
    "    model.add(Dense(1,activation='sigmoid'))\n",
    "    model.compile(loss='binary_crossentropy',optimizer='adam',metrics=['accuracy'])\n",
    "  # model.summary()\n",
    "\n",
    "  # Generate a print\n",
    "    print('------------------------------------------------------------------------')\n",
    "    print(f'Training for fold {fold_no} ...')\n",
    "\n",
    "  # Fit data to model\n",
    "    history = model.fit(inputs[train], targets[train],\n",
    "              batch_size=batch_size,\n",
    "              epochs=no_epochs,\n",
    "              verbose=verbosity)\n",
    "    model_path = \"content_english/models_fasttext/\" + str(fold_no) + \"model\"\n",
    "    \n",
    "    # convert the history.history dict to a pandas DataFrame:     \n",
    "    hist_df = pd.DataFrame(history.history) \n",
    "\n",
    "    # save to json:  \n",
    "    hist_json_file = \"content_english/History_fasttext/\" + str(fold_no) + 'history.json' \n",
    "    with open(hist_json_file, mode='w') as f:\n",
    "        hist_df.to_json(f)\n",
    "            \n",
    "    #save model\n",
    "    model.save(model_path)\n",
    "    \n",
    "  # Generate generalization metrics\n",
    "    scores = model.evaluate(inputs[test], targets[test], verbose=0)\n",
    "    print(f'Score for fold {fold_no}: {model.metrics_names[0]} of {scores[0]}; {model.metrics_names[1]} of {scores[1]*100}%')\n",
    "    acc_per_fold.append(scores[1] * 100)\n",
    "    loss_per_fold.append(scores[0])\n",
    "  # Increase fold number\n",
    "    fold_no = fold_no + 1\n",
    "\n",
    "  # == Provide average scores ==\n",
    "print('------------------------------------------------------------------------')\n",
    "print('Score per fold')\n",
    "for i in range(0, len(acc_per_fold)):\n",
    "    print('------------------------------------------------------------------------')\n",
    "    print(f'> Fold {i+1} - Loss: {loss_per_fold[i]} - Accuracy: {acc_per_fold[i]}%')\n",
    "print('------------------------------------------------------------------------')\n",
    "print('Average scores for all folds:')\n",
    "print(f'> Accuracy: {np.mean(acc_per_fold)} (+- {np.std(acc_per_fold)})')\n",
    "print(f'> Loss: {np.mean(loss_per_fold)}')\n",
    "print('------------------------------------------------------------------------')"
   ]
  },
  {
   "cell_type": "code",
   "execution_count": 13,
   "id": "610946cd",
   "metadata": {},
   "outputs": [
    {
     "name": "stdout",
     "output_type": "stream",
     "text": [
      "Vocabulary Size : 38895\n"
     ]
    }
   ],
   "source": [
    "from keras.preprocessing.text import Tokenizer\n",
    "\n",
    "tokenizer = Tokenizer()\n",
    "tokenizer.fit_on_texts(X_train)\n",
    "\n",
    "word_index = tokenizer.word_index\n",
    "vocab_size = len(tokenizer.word_index) + 1\n",
    "print(\"Vocabulary Size :\", vocab_size)"
   ]
  },
  {
   "cell_type": "code",
   "execution_count": 14,
   "id": "44dfb3bf",
   "metadata": {},
   "outputs": [],
   "source": [
    "embedding_index={}\n",
    "f = open('content_english/glove.6B.100d.txt',encoding='latin-1')\n",
    "for line in f:\n",
    "    values=line.split()\n",
    "    word=values[0]\n",
    "    coefs=np.asarray(values[1:])\n",
    "    embedding_index[word]=coefs\n",
    "f.close()\n",
    "tok = Tokenizer()\n",
    "# create a embeddings matrix with 100 dimenstion\n",
    "EMBEDDING_DIM=100\n",
    "embedding_matrix=np.zeros((vocab_size,EMBEDDING_DIM))\n",
    "for word, i in tok.word_index.items():\n",
    "    if i>vocab_size:\n",
    "        continue\n",
    "    embedding_vector=embedding_index.get(word)\n",
    "    if embedding_vector is not None:\n",
    "        embedding_matrix[i]=embedding_vector"
   ]
  },
  {
   "cell_type": "code",
   "execution_count": 15,
   "id": "df9d129f",
   "metadata": {},
   "outputs": [
    {
     "name": "stdout",
     "output_type": "stream",
     "text": [
      "Embedding Matrix Shape: (38895, 100)\n"
     ]
    }
   ],
   "source": [
    "print(\"Embedding Matrix Shape:\", embedding_matrix.shape)"
   ]
  },
  {
   "cell_type": "code",
   "execution_count": null,
   "id": "e744b446",
   "metadata": {
    "collapsed": true
   },
   "outputs": [
    {
     "name": "stderr",
     "output_type": "stream",
     "text": [
      "2022-03-30 12:28:19.664696: W tensorflow/stream_executor/platform/default/dso_loader.cc:64] Could not load dynamic library 'libcuda.so.1'; dlerror: libcuda.so.1: cannot open shared object file: No such file or directory\n",
      "2022-03-30 12:28:19.664845: W tensorflow/stream_executor/cuda/cuda_driver.cc:269] failed call to cuInit: UNKNOWN ERROR (303)\n",
      "2022-03-30 12:28:19.664929: I tensorflow/stream_executor/cuda/cuda_diagnostics.cc:156] kernel driver does not appear to be running on this host (mostafa): /proc/driver/nvidia/version does not exist\n",
      "2022-03-30 12:28:19.745296: I tensorflow/core/platform/cpu_feature_guard.cc:151] This TensorFlow binary is optimized with oneAPI Deep Neural Network Library (oneDNN) to use the following CPU instructions in performance-critical operations:  AVX2 FMA\n",
      "To enable them in other operations, rebuild TensorFlow with the appropriate compiler flags.\n",
      "2022-03-30 12:28:21.114905: W tensorflow/core/framework/cpu_allocator_impl.cc:82] Allocation of 15558000 exceeds 10% of free system memory.\n"
     ]
    },
    {
     "name": "stdout",
     "output_type": "stream",
     "text": [
      "------------------------------------------------------------------------\n",
      "Training for fold 1 ...\n",
      "Epoch 1/5\n",
      "450/450 [==============================] - 405s 834ms/step - loss: 0.6084 - accuracy: 0.9306\n",
      "Epoch 2/5\n",
      "450/450 [==============================] - 441s 979ms/step - loss: 0.4782 - accuracy: 0.9306\n",
      "Epoch 3/5\n",
      "450/450 [==============================] - 649s 1s/step - loss: 0.3937 - accuracy: 0.9306\n",
      "Epoch 4/5\n",
      "450/450 [==============================] - 772s 2s/step - loss: 0.3396 - accuracy: 0.9306\n",
      "Epoch 5/5\n",
      "450/450 [==============================] - 711s 2s/step - loss: 0.3051 - accuracy: 0.9306\n"
     ]
    },
    {
     "name": "stderr",
     "output_type": "stream",
     "text": [
      "2022-03-30 13:20:01.327052: W tensorflow/python/util/util.cc:368] Sets are not currently considered sequences, but this may change in the future, so consider avoiding using them.\n",
      "2022-03-30 13:20:52.654068: W tensorflow/core/framework/cpu_allocator_impl.cc:82] Allocation of 15558000 exceeds 10% of free system memory.\n"
     ]
    },
    {
     "name": "stdout",
     "output_type": "stream",
     "text": [
      "INFO:tensorflow:Assets written to: content_english/models_glove/1model/assets\n"
     ]
    },
    {
     "name": "stderr",
     "output_type": "stream",
     "text": [
      "WARNING:absl:<keras.layers.recurrent.GRUCell object at 0x7fe97c056250> has the same name 'GRUCell' as a built-in Keras object. Consider renaming <class 'keras.layers.recurrent.GRUCell'> to avoid naming conflicts when loading with `tf.keras.models.load_model`. If renaming is not possible, pass the object in the `custom_objects` parameter of the load function.\n",
      "WARNING:absl:<keras.layers.recurrent.GRUCell object at 0x7fe97c10b040> has the same name 'GRUCell' as a built-in Keras object. Consider renaming <class 'keras.layers.recurrent.GRUCell'> to avoid naming conflicts when loading with `tf.keras.models.load_model`. If renaming is not possible, pass the object in the `custom_objects` parameter of the load function.\n",
      "WARNING:absl:<keras.layers.recurrent.GRUCell object at 0x7fe975f24c40> has the same name 'GRUCell' as a built-in Keras object. Consider renaming <class 'keras.layers.recurrent.GRUCell'> to avoid naming conflicts when loading with `tf.keras.models.load_model`. If renaming is not possible, pass the object in the `custom_objects` parameter of the load function.\n",
      "WARNING:absl:<keras.layers.recurrent.GRUCell object at 0x7fe975f34460> has the same name 'GRUCell' as a built-in Keras object. Consider renaming <class 'keras.layers.recurrent.GRUCell'> to avoid naming conflicts when loading with `tf.keras.models.load_model`. If renaming is not possible, pass the object in the `custom_objects` parameter of the load function.\n"
     ]
    },
    {
     "name": "stdout",
     "output_type": "stream",
     "text": [
      "Score for fold 1: loss of 0.3053912818431854; accuracy of 92.27400422096252%\n"
     ]
    },
    {
     "name": "stderr",
     "output_type": "stream",
     "text": [
      "2022-03-30 13:21:32.089368: W tensorflow/core/framework/cpu_allocator_impl.cc:82] Allocation of 15558000 exceeds 10% of free system memory.\n"
     ]
    },
    {
     "name": "stdout",
     "output_type": "stream",
     "text": [
      "------------------------------------------------------------------------\n",
      "Training for fold 2 ...\n",
      "Epoch 1/5\n",
      "450/450 [==============================] - 744s 2s/step - loss: 0.6086 - accuracy: 0.9297\n",
      "Epoch 2/5\n",
      "450/450 [==============================] - 698s 2s/step - loss: 0.4786 - accuracy: 0.9297\n",
      "Epoch 3/5\n",
      "450/450 [==============================] - 696s 2s/step - loss: 0.3945 - accuracy: 0.9297\n",
      "Epoch 4/5\n",
      "450/450 [==============================] - 514s 1s/step - loss: 0.3407 - accuracy: 0.9297\n",
      "Epoch 5/5\n",
      "450/450 [==============================] - 445s 989ms/step - loss: 0.3065 - accuracy: 0.9297\n"
     ]
    }
   ],
   "source": [
    "# Define the K-fold Cross Validator\n",
    "kfold = KFold(n_splits=num_folds, shuffle=True)\n",
    "\n",
    "# K-fold Cross Validation model evaluation\n",
    "fold_no = 1\n",
    "for train, test in kfold.split(inputs, targets):\n",
    "\n",
    "  # Define the model architecture\n",
    "    model=Sequential()\n",
    "    embedding_layer=Embedding(vocab_size,\n",
    "                        EMBEDDING_DIM,\n",
    "                        embeddings_initializer=Constant(embedding_matrix),\n",
    "                        input_length=60,\n",
    "                        trainable=False)  \n",
    "    model.add(embedding_layer)\n",
    "    model.add(Bidirectional(GRU(units=128, return_sequences = True, dropout=0.25, recurrent_dropout=0.25)))\n",
    "    model.add(Bidirectional(GRU(units=128, return_sequences = True, dropout=0.25, recurrent_dropout=0.25)))\n",
    "    model.add(attention())\n",
    "    model.add(Dense(256, activation='relu'))\n",
    "    model.add(Dropout(0.25))\n",
    "    model.add(Dense(256, activation='relu'))\n",
    "    model.add(Dense(1,activation='sigmoid'))\n",
    "    model.compile(loss='binary_crossentropy',optimizer='adam',metrics=['accuracy'])\n",
    "  # model.summary()\n",
    "\n",
    "  # Generate a print\n",
    "    print('------------------------------------------------------------------------')\n",
    "    print(f'Training for fold {fold_no} ...')\n",
    "\n",
    "  # Fit data to model\n",
    "    history = model.fit(inputs[train], targets[train],\n",
    "              batch_size=batch_size,\n",
    "              epochs=no_epochs,\n",
    "              verbose=verbosity)\n",
    "    model_path = \"content_english/models_glove/\" + str(fold_no) + \"model\"\n",
    "    \n",
    "    # convert the history.history dict to a pandas DataFrame:     \n",
    "    hist_df = pd.DataFrame(history.history) \n",
    "\n",
    "    # save to json:  \n",
    "    hist_json_file = \"content_english/History_glove/\" + str(fold_no) + 'history.json' \n",
    "    with open(hist_json_file, mode='w') as f:\n",
    "        hist_df.to_json(f)\n",
    "            \n",
    "    #save model\n",
    "    model.save(model_path)\n",
    "    \n",
    "  # Generate generalization metrics\n",
    "    scores = model.evaluate(inputs[test], targets[test], verbose=0)\n",
    "    print(f'Score for fold {fold_no}: {model.metrics_names[0]} of {scores[0]}; {model.metrics_names[1]} of {scores[1]*100}%')\n",
    "    acc_per_fold.append(scores[1] * 100)\n",
    "    loss_per_fold.append(scores[0])\n",
    "  # Increase fold number\n",
    "    fold_no = fold_no + 1\n",
    "\n",
    "  # == Provide average scores ==\n",
    "print('------------------------------------------------------------------------')\n",
    "print('Score per fold')\n",
    "for i in range(0, len(acc_per_fold)):\n",
    "    print('------------------------------------------------------------------------')\n",
    "    print(f'> Fold {i+1} - Loss: {loss_per_fold[i]} - Accuracy: {acc_per_fold[i]}%')\n",
    "print('------------------------------------------------------------------------')\n",
    "print('Average scores for all folds:')\n",
    "print(f'> Accuracy: {np.mean(acc_per_fold)} (+- {np.std(acc_per_fold)})')\n",
    "print(f'> Loss: {np.mean(loss_per_fold)}')\n",
    "print('------------------------------------------------------------------------')"
   ]
  },
  {
   "cell_type": "code",
   "execution_count": 14,
   "id": "da02f5ba",
   "metadata": {},
   "outputs": [
    {
     "name": "stderr",
     "output_type": "stream",
     "text": [
      "2022-04-04 23:36:08.701038: W tensorflow/stream_executor/platform/default/dso_loader.cc:64] Could not load dynamic library 'libcuda.so.1'; dlerror: libcuda.so.1: cannot open shared object file: No such file or directory\n",
      "2022-04-04 23:36:08.701132: W tensorflow/stream_executor/cuda/cuda_driver.cc:269] failed call to cuInit: UNKNOWN ERROR (303)\n",
      "2022-04-04 23:36:08.701193: I tensorflow/stream_executor/cuda/cuda_diagnostics.cc:156] kernel driver does not appear to be running on this host (mostafa): /proc/driver/nvidia/version does not exist\n",
      "2022-04-04 23:36:08.712085: I tensorflow/core/platform/cpu_feature_guard.cc:151] This TensorFlow binary is optimized with oneAPI Deep Neural Network Library (oneDNN) to use the following CPU instructions in performance-critical operations:  AVX2 FMA\n",
      "To enable them in other operations, rebuild TensorFlow with the appropriate compiler flags.\n"
     ]
    },
    {
     "name": "stdout",
     "output_type": "stream",
     "text": [
      "------------------------------------------------------------------------\n",
      "Training for fold 1 ...\n",
      "Epoch 1/5\n",
      "450/450 [==============================] - 189s 398ms/step - loss: 0.2375 - accuracy: 0.9291\n",
      "Epoch 2/5\n",
      "450/450 [==============================] - 168s 373ms/step - loss: 0.1987 - accuracy: 0.9317\n",
      "Epoch 3/5\n",
      "450/450 [==============================] - 167s 372ms/step - loss: 0.1918 - accuracy: 0.9338\n",
      "Epoch 4/5\n",
      "450/450 [==============================] - 167s 371ms/step - loss: 0.1873 - accuracy: 0.9346\n",
      "Epoch 5/5\n",
      "450/450 [==============================] - 167s 371ms/step - loss: 0.1836 - accuracy: 0.9362\n"
     ]
    },
    {
     "name": "stderr",
     "output_type": "stream",
     "text": [
      "2022-04-04 23:36:09.086653: W tensorflow/core/framework/cpu_allocator_impl.cc:82] Allocation of 15558000 exceeds 10% of free system memory.\n",
      "2022-04-04 23:50:49.116375: W tensorflow/python/util/util.cc:368] Sets are not currently considered sequences, but this may change in the future, so consider avoiding using them.\n",
      "2022-04-04 23:51:08.832321: W tensorflow/core/framework/cpu_allocator_impl.cc:82] Allocation of 15558000 exceeds 10% of free system memory.\n"
     ]
    },
    {
     "name": "stdout",
     "output_type": "stream",
     "text": [
      "INFO:tensorflow:Assets written to: content_english/models_fasttext/1model/assets\n"
     ]
    },
    {
     "name": "stderr",
     "output_type": "stream",
     "text": [
      "WARNING:absl:<keras.layers.recurrent.GRUCell object at 0x7fdd471e4ca0> has the same name 'GRUCell' as a built-in Keras object. Consider renaming <class 'keras.layers.recurrent.GRUCell'> to avoid naming conflicts when loading with `tf.keras.models.load_model`. If renaming is not possible, pass the object in the `custom_objects` parameter of the load function.\n",
      "WARNING:absl:<keras.layers.recurrent.GRUCell object at 0x7fdd470f14c0> has the same name 'GRUCell' as a built-in Keras object. Consider renaming <class 'keras.layers.recurrent.GRUCell'> to avoid naming conflicts when loading with `tf.keras.models.load_model`. If renaming is not possible, pass the object in the `custom_objects` parameter of the load function.\n"
     ]
    },
    {
     "name": "stdout",
     "output_type": "stream",
     "text": [
      "Score for fold 1: loss of 0.1863562911748886; accuracy of 93.53455901145935%\n"
     ]
    },
    {
     "name": "stderr",
     "output_type": "stream",
     "text": [
      "2022-04-04 23:52:06.363960: W tensorflow/core/framework/cpu_allocator_impl.cc:82] Allocation of 15558000 exceeds 10% of free system memory.\n"
     ]
    },
    {
     "name": "stdout",
     "output_type": "stream",
     "text": [
      "------------------------------------------------------------------------\n",
      "Training for fold 2 ...\n",
      "Epoch 1/5\n",
      "450/450 [==============================] - 202s 427ms/step - loss: 0.2368 - accuracy: 0.9294\n",
      "Epoch 2/5\n",
      "450/450 [==============================] - 187s 416ms/step - loss: 0.2039 - accuracy: 0.9309\n",
      "Epoch 3/5\n",
      "450/450 [==============================] - 168s 374ms/step - loss: 0.1945 - accuracy: 0.9335\n",
      "Epoch 4/5\n",
      "450/450 [==============================] - 169s 375ms/step - loss: 0.1887 - accuracy: 0.9350\n",
      "Epoch 5/5\n",
      "450/450 [==============================] - 169s 376ms/step - loss: 0.1861 - accuracy: 0.9355\n"
     ]
    },
    {
     "name": "stderr",
     "output_type": "stream",
     "text": [
      "2022-04-05 00:08:14.659530: W tensorflow/core/framework/cpu_allocator_impl.cc:82] Allocation of 15558000 exceeds 10% of free system memory.\n"
     ]
    },
    {
     "name": "stdout",
     "output_type": "stream",
     "text": [
      "INFO:tensorflow:Assets written to: content_english/models_fasttext/2model/assets\n"
     ]
    },
    {
     "name": "stderr",
     "output_type": "stream",
     "text": [
      "INFO:tensorflow:Assets written to: content_english/models_fasttext/2model/assets\n",
      "WARNING:absl:<keras.layers.recurrent.GRUCell object at 0x7fdd35cd27c0> has the same name 'GRUCell' as a built-in Keras object. Consider renaming <class 'keras.layers.recurrent.GRUCell'> to avoid naming conflicts when loading with `tf.keras.models.load_model`. If renaming is not possible, pass the object in the `custom_objects` parameter of the load function.\n",
      "WARNING:absl:<keras.layers.recurrent.GRUCell object at 0x7fdd35cd2a30> has the same name 'GRUCell' as a built-in Keras object. Consider renaming <class 'keras.layers.recurrent.GRUCell'> to avoid naming conflicts when loading with `tf.keras.models.load_model`. If renaming is not possible, pass the object in the `custom_objects` parameter of the load function.\n"
     ]
    },
    {
     "name": "stdout",
     "output_type": "stream",
     "text": [
      "Score for fold 2: loss of 0.18005912005901337; accuracy of 94.35774087905884%\n"
     ]
    },
    {
     "name": "stderr",
     "output_type": "stream",
     "text": [
      "2022-04-05 00:08:57.166964: W tensorflow/core/framework/cpu_allocator_impl.cc:82] Allocation of 15558000 exceeds 10% of free system memory.\n"
     ]
    },
    {
     "name": "stdout",
     "output_type": "stream",
     "text": [
      "------------------------------------------------------------------------\n",
      "Training for fold 3 ...\n",
      "Epoch 1/5\n",
      "450/450 [==============================] - 178s 378ms/step - loss: 0.2380 - accuracy: 0.9293\n",
      "Epoch 2/5\n",
      "450/450 [==============================] - 170s 378ms/step - loss: 0.2003 - accuracy: 0.9316\n",
      "Epoch 3/5\n",
      "450/450 [==============================] - 171s 380ms/step - loss: 0.1914 - accuracy: 0.9344\n",
      "Epoch 4/5\n",
      "450/450 [==============================] - 171s 380ms/step - loss: 0.1868 - accuracy: 0.9354\n",
      "Epoch 5/5\n",
      "450/450 [==============================] - 171s 380ms/step - loss: 0.1838 - accuracy: 0.9359\n",
      "INFO:tensorflow:Assets written to: content_english/models_fasttext/3model/assets\n"
     ]
    },
    {
     "name": "stderr",
     "output_type": "stream",
     "text": [
      "INFO:tensorflow:Assets written to: content_english/models_fasttext/3model/assets\n",
      "WARNING:absl:<keras.layers.recurrent.GRUCell object at 0x7fdd35bc79d0> has the same name 'GRUCell' as a built-in Keras object. Consider renaming <class 'keras.layers.recurrent.GRUCell'> to avoid naming conflicts when loading with `tf.keras.models.load_model`. If renaming is not possible, pass the object in the `custom_objects` parameter of the load function.\n",
      "WARNING:absl:<keras.layers.recurrent.GRUCell object at 0x7fdd35f88f70> has the same name 'GRUCell' as a built-in Keras object. Consider renaming <class 'keras.layers.recurrent.GRUCell'> to avoid naming conflicts when loading with `tf.keras.models.load_model`. If renaming is not possible, pass the object in the `custom_objects` parameter of the load function.\n"
     ]
    },
    {
     "name": "stdout",
     "output_type": "stream",
     "text": [
      "Score for fold 3: loss of 0.1827273815870285; accuracy of 93.35522651672363%\n",
      "------------------------------------------------------------------------\n",
      "Training for fold 4 ...\n",
      "Epoch 1/5\n",
      "450/450 [==============================] - 179s 380ms/step - loss: 0.2435 - accuracy: 0.9295\n",
      "Epoch 2/5\n",
      "450/450 [==============================] - 169s 375ms/step - loss: 0.2083 - accuracy: 0.9304\n",
      "Epoch 3/5\n",
      "450/450 [==============================] - 171s 381ms/step - loss: 0.1935 - accuracy: 0.9328\n",
      "Epoch 4/5\n",
      "450/450 [==============================] - 170s 378ms/step - loss: 0.1896 - accuracy: 0.9344\n",
      "Epoch 5/5\n",
      "450/450 [==============================] - 170s 379ms/step - loss: 0.1830 - accuracy: 0.9356\n",
      "INFO:tensorflow:Assets written to: content_english/models_fasttext/4model/assets\n"
     ]
    },
    {
     "name": "stderr",
     "output_type": "stream",
     "text": [
      "INFO:tensorflow:Assets written to: content_english/models_fasttext/4model/assets\n",
      "WARNING:absl:<keras.layers.recurrent.GRUCell object at 0x7fdd3530e550> has the same name 'GRUCell' as a built-in Keras object. Consider renaming <class 'keras.layers.recurrent.GRUCell'> to avoid naming conflicts when loading with `tf.keras.models.load_model`. If renaming is not possible, pass the object in the `custom_objects` parameter of the load function.\n",
      "WARNING:absl:<keras.layers.recurrent.GRUCell object at 0x7fdd23dfff70> has the same name 'GRUCell' as a built-in Keras object. Consider renaming <class 'keras.layers.recurrent.GRUCell'> to avoid naming conflicts when loading with `tf.keras.models.load_model`. If renaming is not possible, pass the object in the `custom_objects` parameter of the load function.\n"
     ]
    },
    {
     "name": "stdout",
     "output_type": "stream",
     "text": [
      "Score for fold 4: loss of 0.1777176856994629; accuracy of 93.66029500961304%\n",
      "------------------------------------------------------------------------\n",
      "Training for fold 5 ...\n",
      "Epoch 1/5\n",
      "450/450 [==============================] - 181s 381ms/step - loss: 0.2386 - accuracy: 0.9288\n",
      "Epoch 2/5\n",
      "450/450 [==============================] - 169s 376ms/step - loss: 0.2015 - accuracy: 0.9310\n",
      "Epoch 3/5\n",
      "450/450 [==============================] - 171s 381ms/step - loss: 0.1925 - accuracy: 0.9338\n",
      "Epoch 4/5\n",
      "450/450 [==============================] - 171s 379ms/step - loss: 0.1878 - accuracy: 0.9344\n",
      "Epoch 5/5\n",
      "450/450 [==============================] - 172s 382ms/step - loss: 0.1857 - accuracy: 0.9353\n",
      "INFO:tensorflow:Assets written to: content_english/models_fasttext/5model/assets\n"
     ]
    },
    {
     "name": "stderr",
     "output_type": "stream",
     "text": [
      "INFO:tensorflow:Assets written to: content_english/models_fasttext/5model/assets\n",
      "WARNING:absl:<keras.layers.recurrent.GRUCell object at 0x7fdd35695640> has the same name 'GRUCell' as a built-in Keras object. Consider renaming <class 'keras.layers.recurrent.GRUCell'> to avoid naming conflicts when loading with `tf.keras.models.load_model`. If renaming is not possible, pass the object in the `custom_objects` parameter of the load function.\n",
      "WARNING:absl:<keras.layers.recurrent.GRUCell object at 0x7fdd21e20c10> has the same name 'GRUCell' as a built-in Keras object. Consider renaming <class 'keras.layers.recurrent.GRUCell'> to avoid naming conflicts when loading with `tf.keras.models.load_model`. If renaming is not possible, pass the object in the `custom_objects` parameter of the load function.\n"
     ]
    },
    {
     "name": "stdout",
     "output_type": "stream",
     "text": [
      "Score for fold 5: loss of 0.16573284566402435; accuracy of 94.5317029953003%\n",
      "------------------------------------------------------------------------\n",
      "Training for fold 6 ...\n",
      "Epoch 1/5\n",
      "450/450 [==============================] - 183s 385ms/step - loss: 0.2363 - accuracy: 0.9295\n",
      "Epoch 2/5\n",
      "450/450 [==============================] - 171s 380ms/step - loss: 0.1977 - accuracy: 0.9312\n",
      "Epoch 3/5\n",
      "450/450 [==============================] - 171s 379ms/step - loss: 0.1907 - accuracy: 0.9344\n",
      "Epoch 4/5\n",
      "450/450 [==============================] - 172s 382ms/step - loss: 0.1874 - accuracy: 0.9359\n",
      "Epoch 5/5\n",
      "450/450 [==============================] - 171s 381ms/step - loss: 0.1814 - accuracy: 0.9366\n",
      "INFO:tensorflow:Assets written to: content_english/models_fasttext/6model/assets\n"
     ]
    },
    {
     "name": "stderr",
     "output_type": "stream",
     "text": [
      "INFO:tensorflow:Assets written to: content_english/models_fasttext/6model/assets\n",
      "WARNING:absl:<keras.layers.recurrent.GRUCell object at 0x7fdd219b9eb0> has the same name 'GRUCell' as a built-in Keras object. Consider renaming <class 'keras.layers.recurrent.GRUCell'> to avoid naming conflicts when loading with `tf.keras.models.load_model`. If renaming is not possible, pass the object in the `custom_objects` parameter of the load function.\n",
      "WARNING:absl:<keras.layers.recurrent.GRUCell object at 0x7fdd35d1cb20> has the same name 'GRUCell' as a built-in Keras object. Consider renaming <class 'keras.layers.recurrent.GRUCell'> to avoid naming conflicts when loading with `tf.keras.models.load_model`. If renaming is not possible, pass the object in the `custom_objects` parameter of the load function.\n"
     ]
    },
    {
     "name": "stdout",
     "output_type": "stream",
     "text": [
      "Score for fold 6: loss of 0.18386848270893097; accuracy of 93.465256690979%\n",
      "------------------------------------------------------------------------\n",
      "Training for fold 7 ...\n",
      "Epoch 1/5\n",
      "450/450 [==============================] - 181s 382ms/step - loss: 0.2367 - accuracy: 0.9310\n",
      "Epoch 2/5\n",
      "450/450 [==============================] - 172s 381ms/step - loss: 0.2000 - accuracy: 0.9319\n",
      "Epoch 3/5\n",
      "450/450 [==============================] - 169s 376ms/step - loss: 0.1897 - accuracy: 0.9341\n",
      "Epoch 4/5\n",
      "450/450 [==============================] - 172s 382ms/step - loss: 0.1846 - accuracy: 0.9359\n",
      "Epoch 5/5\n",
      "450/450 [==============================] - 172s 382ms/step - loss: 0.1812 - accuracy: 0.9365\n",
      "INFO:tensorflow:Assets written to: content_english/models_fasttext/7model/assets\n"
     ]
    },
    {
     "name": "stderr",
     "output_type": "stream",
     "text": [
      "INFO:tensorflow:Assets written to: content_english/models_fasttext/7model/assets\n",
      "WARNING:absl:<keras.layers.recurrent.GRUCell object at 0x7fdd201de8e0> has the same name 'GRUCell' as a built-in Keras object. Consider renaming <class 'keras.layers.recurrent.GRUCell'> to avoid naming conflicts when loading with `tf.keras.models.load_model`. If renaming is not possible, pass the object in the `custom_objects` parameter of the load function.\n",
      "WARNING:absl:<keras.layers.recurrent.GRUCell object at 0x7fdd21c117f0> has the same name 'GRUCell' as a built-in Keras object. Consider renaming <class 'keras.layers.recurrent.GRUCell'> to avoid naming conflicts when loading with `tf.keras.models.load_model`. If renaming is not possible, pass the object in the `custom_objects` parameter of the load function.\n"
     ]
    },
    {
     "name": "stdout",
     "output_type": "stream",
     "text": [
      "Score for fold 7: loss of 0.20708820223808289; accuracy of 92.37381219863892%\n",
      "------------------------------------------------------------------------\n",
      "Training for fold 8 ...\n",
      "Epoch 1/5\n",
      "450/450 [==============================] - 177s 374ms/step - loss: 0.2339 - accuracy: 0.9295\n",
      "Epoch 2/5\n",
      "450/450 [==============================] - 170s 378ms/step - loss: 0.1984 - accuracy: 0.9316\n",
      "Epoch 3/5\n",
      "450/450 [==============================] - 167s 372ms/step - loss: 0.1921 - accuracy: 0.9331\n",
      "Epoch 4/5\n",
      "450/450 [==============================] - 169s 375ms/step - loss: 0.1875 - accuracy: 0.9345\n",
      "Epoch 5/5\n",
      "450/450 [==============================] - 170s 377ms/step - loss: 0.1843 - accuracy: 0.9360\n",
      "INFO:tensorflow:Assets written to: content_english/models_fasttext/8model/assets\n"
     ]
    },
    {
     "name": "stderr",
     "output_type": "stream",
     "text": [
      "INFO:tensorflow:Assets written to: content_english/models_fasttext/8model/assets\n",
      "WARNING:absl:<keras.layers.recurrent.GRUCell object at 0x7fdd35e33640> has the same name 'GRUCell' as a built-in Keras object. Consider renaming <class 'keras.layers.recurrent.GRUCell'> to avoid naming conflicts when loading with `tf.keras.models.load_model`. If renaming is not possible, pass the object in the `custom_objects` parameter of the load function.\n",
      "WARNING:absl:<keras.layers.recurrent.GRUCell object at 0x7fdd203f7520> has the same name 'GRUCell' as a built-in Keras object. Consider renaming <class 'keras.layers.recurrent.GRUCell'> to avoid naming conflicts when loading with `tf.keras.models.load_model`. If renaming is not possible, pass the object in the `custom_objects` parameter of the load function.\n"
     ]
    },
    {
     "name": "stdout",
     "output_type": "stream",
     "text": [
      "Score for fold 8: loss of 0.18532584607601166; accuracy of 93.68430376052856%\n",
      "------------------------------------------------------------------------\n",
      "Training for fold 9 ...\n",
      "Epoch 1/5\n",
      "450/450 [==============================] - 180s 379ms/step - loss: 0.2409 - accuracy: 0.9287\n",
      "Epoch 2/5\n",
      "450/450 [==============================] - 172s 382ms/step - loss: 0.2027 - accuracy: 0.9307\n",
      "Epoch 3/5\n",
      "450/450 [==============================] - 171s 381ms/step - loss: 0.1927 - accuracy: 0.9330\n",
      "Epoch 4/5\n",
      "450/450 [==============================] - 171s 380ms/step - loss: 0.1896 - accuracy: 0.9344\n",
      "Epoch 5/5\n",
      "450/450 [==============================] - 171s 380ms/step - loss: 0.1867 - accuracy: 0.9355\n",
      "INFO:tensorflow:Assets written to: content_english/models_fasttext/9model/assets\n"
     ]
    },
    {
     "name": "stderr",
     "output_type": "stream",
     "text": [
      "INFO:tensorflow:Assets written to: content_english/models_fasttext/9model/assets\n",
      "WARNING:absl:<keras.layers.recurrent.GRUCell object at 0x7fdd21a80c10> has the same name 'GRUCell' as a built-in Keras object. Consider renaming <class 'keras.layers.recurrent.GRUCell'> to avoid naming conflicts when loading with `tf.keras.models.load_model`. If renaming is not possible, pass the object in the `custom_objects` parameter of the load function.\n",
      "WARNING:absl:<keras.layers.recurrent.GRUCell object at 0x7fdd3533d100> has the same name 'GRUCell' as a built-in Keras object. Consider renaming <class 'keras.layers.recurrent.GRUCell'> to avoid naming conflicts when loading with `tf.keras.models.load_model`. If renaming is not possible, pass the object in the `custom_objects` parameter of the load function.\n"
     ]
    },
    {
     "name": "stdout",
     "output_type": "stream",
     "text": [
      "Score for fold 9: loss of 0.1735035479068756; accuracy of 93.9497172832489%\n",
      "------------------------------------------------------------------------\n",
      "Training for fold 10 ...\n",
      "Epoch 1/5\n",
      "450/450 [==============================] - 177s 377ms/step - loss: 0.2377 - accuracy: 0.9291\n",
      "Epoch 2/5\n",
      "450/450 [==============================] - 167s 371ms/step - loss: 0.2035 - accuracy: 0.9310\n",
      "Epoch 3/5\n",
      "450/450 [==============================] - 170s 378ms/step - loss: 0.1914 - accuracy: 0.9335\n",
      "Epoch 4/5\n",
      "450/450 [==============================] - 169s 374ms/step - loss: 0.1887 - accuracy: 0.9346\n",
      "Epoch 5/5\n",
      "450/450 [==============================] - 170s 377ms/step - loss: 0.1857 - accuracy: 0.9355\n",
      "INFO:tensorflow:Assets written to: content_english/models_fasttext/10model/assets\n"
     ]
    },
    {
     "name": "stderr",
     "output_type": "stream",
     "text": [
      "INFO:tensorflow:Assets written to: content_english/models_fasttext/10model/assets\n",
      "WARNING:absl:<keras.layers.recurrent.GRUCell object at 0x7fdd44249bb0> has the same name 'GRUCell' as a built-in Keras object. Consider renaming <class 'keras.layers.recurrent.GRUCell'> to avoid naming conflicts when loading with `tf.keras.models.load_model`. If renaming is not possible, pass the object in the `custom_objects` parameter of the load function.\n",
      "WARNING:absl:<keras.layers.recurrent.GRUCell object at 0x7fdd4424f190> has the same name 'GRUCell' as a built-in Keras object. Consider renaming <class 'keras.layers.recurrent.GRUCell'> to avoid naming conflicts when loading with `tf.keras.models.load_model`. If renaming is not possible, pass the object in the `custom_objects` parameter of the load function.\n"
     ]
    },
    {
     "name": "stdout",
     "output_type": "stream",
     "text": [
      "Score for fold 10: loss of 0.16960830986499786; accuracy of 94.09732222557068%\n",
      "------------------------------------------------------------------------\n",
      "Score per fold\n",
      "------------------------------------------------------------------------\n",
      "> Fold 1 - Loss: 0.1863562911748886 - Accuracy: 93.53455901145935%\n",
      "------------------------------------------------------------------------\n",
      "> Fold 2 - Loss: 0.18005912005901337 - Accuracy: 94.35774087905884%\n",
      "------------------------------------------------------------------------\n",
      "> Fold 3 - Loss: 0.1827273815870285 - Accuracy: 93.35522651672363%\n",
      "------------------------------------------------------------------------\n",
      "> Fold 4 - Loss: 0.1777176856994629 - Accuracy: 93.66029500961304%\n",
      "------------------------------------------------------------------------\n",
      "> Fold 5 - Loss: 0.16573284566402435 - Accuracy: 94.5317029953003%\n",
      "------------------------------------------------------------------------\n",
      "> Fold 6 - Loss: 0.18386848270893097 - Accuracy: 93.465256690979%\n",
      "------------------------------------------------------------------------\n",
      "> Fold 7 - Loss: 0.20708820223808289 - Accuracy: 92.37381219863892%\n",
      "------------------------------------------------------------------------\n",
      "> Fold 8 - Loss: 0.18532584607601166 - Accuracy: 93.68430376052856%\n",
      "------------------------------------------------------------------------\n",
      "> Fold 9 - Loss: 0.1735035479068756 - Accuracy: 93.9497172832489%\n",
      "------------------------------------------------------------------------\n",
      "> Fold 10 - Loss: 0.16960830986499786 - Accuracy: 94.09732222557068%\n",
      "------------------------------------------------------------------------\n",
      "Average scores for all folds:\n",
      "> Accuracy: 93.70099365711212 (+- 0.5750223973535057)\n",
      "> Loss: 0.18119877129793166\n",
      "------------------------------------------------------------------------\n"
     ]
    }
   ],
   "source": [
    "# Define the K-fold Cross Validator\n",
    "kfold = KFold(n_splits=num_folds, shuffle=True)\n",
    "\n",
    "# K-fold Cross Validation model evaluation\n",
    "fold_no = 1\n",
    "for train, test in kfold.split(inputs, targets):\n",
    "\n",
    "  # Define the model architecture\n",
    "    model=Sequential()\n",
    "    embedding_layer=Embedding(vocab_size,\n",
    "                        EMBEDDING_DIM,\n",
    "                        embeddings_initializer=Constant(embedding_matrix),\n",
    "                        input_length=60,\n",
    "                        trainable=False)  \n",
    "    model.add(embedding_layer)\n",
    "    model.add(Bidirectional(GRU(units=128, return_sequences = True, dropout=0.25, recurrent_dropout=0.25)))\n",
    "#     model.add(Bidirectional(GRU(units=128, return_sequences = True, dropout=0.25, recurrent_dropout=0.25)))\n",
    "#     model.add(attention())\n",
    "    model.add(Dense(256, activation='relu'))\n",
    "    model.add(Dropout(0.25))\n",
    "    model.add(Dense(256, activation='relu'))\n",
    "    model.add(Dense(1,activation='sigmoid'))\n",
    "    model.compile(loss='binary_crossentropy',optimizer='adam',metrics=['accuracy'])\n",
    "  # model.summary()\n",
    "\n",
    "  # Generate a print\n",
    "    print('------------------------------------------------------------------------')\n",
    "    print(f'Training for fold {fold_no} ...')\n",
    "\n",
    "  # Fit data to model\n",
    "    history = model.fit(inputs[train], targets[train],\n",
    "              batch_size=batch_size,\n",
    "              epochs=no_epochs,\n",
    "              verbose=verbosity)\n",
    "    model_path = \"content_english/models_fasttext/\" + str(fold_no) + \"model\"\n",
    "    \n",
    "    # convert the history.history dict to a pandas DataFrame:     \n",
    "    hist_df = pd.DataFrame(history.history) \n",
    "\n",
    "    # save to json:  \n",
    "    hist_json_file = \"content_english/History_fasttext/\" + str(fold_no) + 'history.json' \n",
    "    with open(hist_json_file, mode='w') as f:\n",
    "        hist_df.to_json(f)\n",
    "            \n",
    "    #save model\n",
    "    model.save(model_path)\n",
    "    \n",
    "  # Generate generalization metrics\n",
    "    scores = model.evaluate(inputs[test], targets[test], verbose=0)\n",
    "    print(f'Score for fold {fold_no}: {model.metrics_names[0]} of {scores[0]}; {model.metrics_names[1]} of {scores[1]*100}%')\n",
    "    acc_per_fold.append(scores[1] * 100)\n",
    "    loss_per_fold.append(scores[0])\n",
    "  # Increase fold number\n",
    "    fold_no = fold_no + 1\n",
    "\n",
    "  # == Provide average scores ==\n",
    "print('------------------------------------------------------------------------')\n",
    "print('Score per fold')\n",
    "for i in range(0, len(acc_per_fold)):\n",
    "    print('------------------------------------------------------------------------')\n",
    "    print(f'> Fold {i+1} - Loss: {loss_per_fold[i]} - Accuracy: {acc_per_fold[i]}%')\n",
    "print('------------------------------------------------------------------------')\n",
    "print('Average scores for all folds:')\n",
    "print(f'> Accuracy: {np.mean(acc_per_fold)} (+- {np.std(acc_per_fold)})')\n",
    "print(f'> Loss: {np.mean(loss_per_fold)}')\n",
    "print('------------------------------------------------------------------------')"
   ]
  },
  {
   "cell_type": "code",
   "execution_count": 17,
   "id": "86bef16a",
   "metadata": {},
   "outputs": [
    {
     "name": "stdout",
     "output_type": "stream",
     "text": [
      "------------------------------------------------------------------------\n",
      "Training for fold 1 ...\n",
      "Epoch 1/5\n",
      "450/450 [==============================] - 207s 439ms/step - loss: 0.2345 - accuracy: 0.9295\n",
      "Epoch 2/5\n",
      "450/450 [==============================] - 196s 436ms/step - loss: 0.2022 - accuracy: 0.9303\n",
      "Epoch 3/5\n",
      "450/450 [==============================] - 196s 436ms/step - loss: 0.1931 - accuracy: 0.9334\n",
      "Epoch 4/5\n",
      "450/450 [==============================] - 196s 436ms/step - loss: 0.1882 - accuracy: 0.9345\n",
      "Epoch 5/5\n",
      "450/450 [==============================] - 196s 436ms/step - loss: 0.1919 - accuracy: 0.9333\n",
      "INFO:tensorflow:Assets written to: content_english/models_fasttext/1model/assets\n"
     ]
    },
    {
     "name": "stderr",
     "output_type": "stream",
     "text": [
      "INFO:tensorflow:Assets written to: content_english/models_fasttext/1model/assets\n",
      "WARNING:absl:<keras.layers.recurrent.LSTMCell object at 0x7fdd4708b220> has the same name 'LSTMCell' as a built-in Keras object. Consider renaming <class 'keras.layers.recurrent.LSTMCell'> to avoid naming conflicts when loading with `tf.keras.models.load_model`. If renaming is not possible, pass the object in the `custom_objects` parameter of the load function.\n",
      "WARNING:absl:<keras.layers.recurrent.LSTMCell object at 0x7fdd35f40fa0> has the same name 'LSTMCell' as a built-in Keras object. Consider renaming <class 'keras.layers.recurrent.LSTMCell'> to avoid naming conflicts when loading with `tf.keras.models.load_model`. If renaming is not possible, pass the object in the `custom_objects` parameter of the load function.\n"
     ]
    },
    {
     "name": "stdout",
     "output_type": "stream",
     "text": [
      "Score for fold 1: loss of 0.17571136355400085; accuracy of 93.78741383552551%\n",
      "------------------------------------------------------------------------\n",
      "Training for fold 2 ...\n",
      "Epoch 1/5\n",
      "450/450 [==============================] - 204s 433ms/step - loss: 0.2350 - accuracy: 0.9284\n",
      "Epoch 2/5\n",
      "450/450 [==============================] - 196s 435ms/step - loss: 0.2023 - accuracy: 0.9307\n",
      "Epoch 3/5\n",
      "450/450 [==============================] - 194s 431ms/step - loss: 0.1936 - accuracy: 0.9325\n",
      "Epoch 4/5\n",
      "450/450 [==============================] - 195s 433ms/step - loss: 0.1884 - accuracy: 0.9352\n",
      "Epoch 5/5\n",
      "450/450 [==============================] - 195s 433ms/step - loss: 0.1854 - accuracy: 0.9357\n",
      "INFO:tensorflow:Assets written to: content_english/models_fasttext/2model/assets\n"
     ]
    },
    {
     "name": "stderr",
     "output_type": "stream",
     "text": [
      "INFO:tensorflow:Assets written to: content_english/models_fasttext/2model/assets\n",
      "WARNING:absl:<keras.layers.recurrent.LSTMCell object at 0x7fdd23563700> has the same name 'LSTMCell' as a built-in Keras object. Consider renaming <class 'keras.layers.recurrent.LSTMCell'> to avoid naming conflicts when loading with `tf.keras.models.load_model`. If renaming is not possible, pass the object in the `custom_objects` parameter of the load function.\n",
      "WARNING:absl:<keras.layers.recurrent.LSTMCell object at 0x7fdd44334730> has the same name 'LSTMCell' as a built-in Keras object. Consider renaming <class 'keras.layers.recurrent.LSTMCell'> to avoid naming conflicts when loading with `tf.keras.models.load_model`. If renaming is not possible, pass the object in the `custom_objects` parameter of the load function.\n"
     ]
    },
    {
     "name": "stdout",
     "output_type": "stream",
     "text": [
      "Score for fold 2: loss of 0.19730144739151; accuracy of 93.28171014785767%\n",
      "------------------------------------------------------------------------\n",
      "Training for fold 3 ...\n",
      "Epoch 1/5\n",
      "450/450 [==============================] - 207s 441ms/step - loss: 0.2339 - accuracy: 0.9286\n",
      "Epoch 2/5\n",
      "450/450 [==============================] - 198s 440ms/step - loss: 0.1984 - accuracy: 0.9320\n",
      "Epoch 3/5\n",
      "450/450 [==============================] - 198s 440ms/step - loss: 0.1945 - accuracy: 0.9327\n",
      "Epoch 4/5\n",
      "450/450 [==============================] - 197s 438ms/step - loss: 0.1890 - accuracy: 0.9332\n",
      "Epoch 5/5\n",
      "450/450 [==============================] - 199s 442ms/step - loss: 0.1842 - accuracy: 0.9357\n",
      "INFO:tensorflow:Assets written to: content_english/models_fasttext/3model/assets\n"
     ]
    },
    {
     "name": "stderr",
     "output_type": "stream",
     "text": [
      "INFO:tensorflow:Assets written to: content_english/models_fasttext/3model/assets\n",
      "WARNING:absl:<keras.layers.recurrent.LSTMCell object at 0x7fdd23fdbd30> has the same name 'LSTMCell' as a built-in Keras object. Consider renaming <class 'keras.layers.recurrent.LSTMCell'> to avoid naming conflicts when loading with `tf.keras.models.load_model`. If renaming is not possible, pass the object in the `custom_objects` parameter of the load function.\n",
      "WARNING:absl:<keras.layers.recurrent.LSTMCell object at 0x7fdd235632b0> has the same name 'LSTMCell' as a built-in Keras object. Consider renaming <class 'keras.layers.recurrent.LSTMCell'> to avoid naming conflicts when loading with `tf.keras.models.load_model`. If renaming is not possible, pass the object in the `custom_objects` parameter of the load function.\n"
     ]
    },
    {
     "name": "stdout",
     "output_type": "stream",
     "text": [
      "Score for fold 3: loss of 0.20718733966350555; accuracy of 93.51898431777954%\n",
      "------------------------------------------------------------------------\n",
      "Training for fold 4 ...\n",
      "Epoch 1/5\n",
      "450/450 [==============================] - 207s 441ms/step - loss: 0.2404 - accuracy: 0.9303\n",
      "Epoch 2/5\n",
      "450/450 [==============================] - 198s 440ms/step - loss: 0.2114 - accuracy: 0.9310\n",
      "Epoch 3/5\n",
      "450/450 [==============================] - 197s 438ms/step - loss: 0.1972 - accuracy: 0.9318\n",
      "Epoch 4/5\n",
      "450/450 [==============================] - 198s 440ms/step - loss: 0.1925 - accuracy: 0.9323\n",
      "Epoch 5/5\n",
      "450/450 [==============================] - 196s 436ms/step - loss: 0.1936 - accuracy: 0.9325\n",
      "INFO:tensorflow:Assets written to: content_english/models_fasttext/4model/assets\n"
     ]
    },
    {
     "name": "stderr",
     "output_type": "stream",
     "text": [
      "INFO:tensorflow:Assets written to: content_english/models_fasttext/4model/assets\n",
      "WARNING:absl:<keras.layers.recurrent.LSTMCell object at 0x7fdd2347b520> has the same name 'LSTMCell' as a built-in Keras object. Consider renaming <class 'keras.layers.recurrent.LSTMCell'> to avoid naming conflicts when loading with `tf.keras.models.load_model`. If renaming is not possible, pass the object in the `custom_objects` parameter of the load function.\n",
      "WARNING:absl:<keras.layers.recurrent.LSTMCell object at 0x7fdd4418d220> has the same name 'LSTMCell' as a built-in Keras object. Consider renaming <class 'keras.layers.recurrent.LSTMCell'> to avoid naming conflicts when loading with `tf.keras.models.load_model`. If renaming is not possible, pass the object in the `custom_objects` parameter of the load function.\n"
     ]
    },
    {
     "name": "stdout",
     "output_type": "stream",
     "text": [
      "Score for fold 4: loss of 0.17666363716125488; accuracy of 93.82510781288147%\n",
      "------------------------------------------------------------------------\n",
      "Training for fold 5 ...\n",
      "Epoch 1/5\n",
      "450/450 [==============================] - 206s 439ms/step - loss: 0.2426 - accuracy: 0.9289\n",
      "Epoch 2/5\n",
      "450/450 [==============================] - 200s 444ms/step - loss: 0.2119 - accuracy: 0.9299\n",
      "Epoch 3/5\n",
      "450/450 [==============================] - 199s 441ms/step - loss: 0.1987 - accuracy: 0.9323\n",
      "Epoch 4/5\n",
      "450/450 [==============================] - 197s 437ms/step - loss: 0.1913 - accuracy: 0.9346\n",
      "Epoch 5/5\n",
      "450/450 [==============================] - 197s 438ms/step - loss: 0.1889 - accuracy: 0.9351\n",
      "INFO:tensorflow:Assets written to: content_english/models_fasttext/5model/assets\n"
     ]
    },
    {
     "name": "stderr",
     "output_type": "stream",
     "text": [
      "INFO:tensorflow:Assets written to: content_english/models_fasttext/5model/assets\n",
      "WARNING:absl:<keras.layers.recurrent.LSTMCell object at 0x7fdd21dd32e0> has the same name 'LSTMCell' as a built-in Keras object. Consider renaming <class 'keras.layers.recurrent.LSTMCell'> to avoid naming conflicts when loading with `tf.keras.models.load_model`. If renaming is not possible, pass the object in the `custom_objects` parameter of the load function.\n",
      "WARNING:absl:<keras.layers.recurrent.LSTMCell object at 0x7fdd236f7fa0> has the same name 'LSTMCell' as a built-in Keras object. Consider renaming <class 'keras.layers.recurrent.LSTMCell'> to avoid naming conflicts when loading with `tf.keras.models.load_model`. If renaming is not possible, pass the object in the `custom_objects` parameter of the load function.\n"
     ]
    },
    {
     "name": "stdout",
     "output_type": "stream",
     "text": [
      "Score for fold 5: loss of 0.18341375887393951; accuracy of 93.60918998718262%\n",
      "------------------------------------------------------------------------\n",
      "Training for fold 6 ...\n",
      "Epoch 1/5\n",
      "450/450 [==============================] - 208s 443ms/step - loss: 0.2410 - accuracy: 0.9298\n",
      "Epoch 2/5\n",
      "450/450 [==============================] - 198s 441ms/step - loss: 0.2041 - accuracy: 0.9316\n",
      "Epoch 3/5\n",
      "450/450 [==============================] - 197s 437ms/step - loss: 0.1964 - accuracy: 0.9325\n",
      "Epoch 4/5\n",
      "450/450 [==============================] - 198s 441ms/step - loss: 0.1900 - accuracy: 0.9335\n",
      "Epoch 5/5\n",
      "450/450 [==============================] - 198s 441ms/step - loss: 0.1870 - accuracy: 0.9354\n",
      "INFO:tensorflow:Assets written to: content_english/models_fasttext/6model/assets\n"
     ]
    },
    {
     "name": "stderr",
     "output_type": "stream",
     "text": [
      "INFO:tensorflow:Assets written to: content_english/models_fasttext/6model/assets\n",
      "WARNING:absl:<keras.layers.recurrent.LSTMCell object at 0x7fdd21dc3fd0> has the same name 'LSTMCell' as a built-in Keras object. Consider renaming <class 'keras.layers.recurrent.LSTMCell'> to avoid naming conflicts when loading with `tf.keras.models.load_model`. If renaming is not possible, pass the object in the `custom_objects` parameter of the load function.\n",
      "WARNING:absl:<keras.layers.recurrent.LSTMCell object at 0x7fdd21ad5100> has the same name 'LSTMCell' as a built-in Keras object. Consider renaming <class 'keras.layers.recurrent.LSTMCell'> to avoid naming conflicts when loading with `tf.keras.models.load_model`. If renaming is not possible, pass the object in the `custom_objects` parameter of the load function.\n"
     ]
    },
    {
     "name": "stdout",
     "output_type": "stream",
     "text": [
      "Score for fold 6: loss of 0.18754158914089203; accuracy of 93.12474727630615%\n",
      "------------------------------------------------------------------------\n",
      "Training for fold 7 ...\n",
      "Epoch 1/5\n",
      "450/450 [==============================] - 204s 436ms/step - loss: 0.2318 - accuracy: 0.9294\n",
      "Epoch 2/5\n",
      "450/450 [==============================] - 197s 437ms/step - loss: 0.2045 - accuracy: 0.9310\n",
      "Epoch 3/5\n",
      "450/450 [==============================] - 197s 439ms/step - loss: 0.1954 - accuracy: 0.9318\n",
      "Epoch 4/5\n",
      "450/450 [==============================] - 196s 437ms/step - loss: 0.1910 - accuracy: 0.9335\n",
      "Epoch 5/5\n",
      "450/450 [==============================] - 194s 432ms/step - loss: 0.1869 - accuracy: 0.9359\n",
      "INFO:tensorflow:Assets written to: content_english/models_fasttext/7model/assets\n"
     ]
    },
    {
     "name": "stderr",
     "output_type": "stream",
     "text": [
      "INFO:tensorflow:Assets written to: content_english/models_fasttext/7model/assets\n",
      "WARNING:absl:<keras.layers.recurrent.LSTMCell object at 0x7fdd23eaf520> has the same name 'LSTMCell' as a built-in Keras object. Consider renaming <class 'keras.layers.recurrent.LSTMCell'> to avoid naming conflicts when loading with `tf.keras.models.load_model`. If renaming is not possible, pass the object in the `custom_objects` parameter of the load function.\n",
      "WARNING:absl:<keras.layers.recurrent.LSTMCell object at 0x7fdcf6077c70> has the same name 'LSTMCell' as a built-in Keras object. Consider renaming <class 'keras.layers.recurrent.LSTMCell'> to avoid naming conflicts when loading with `tf.keras.models.load_model`. If renaming is not possible, pass the object in the `custom_objects` parameter of the load function.\n"
     ]
    },
    {
     "name": "stdout",
     "output_type": "stream",
     "text": [
      "Score for fold 7: loss of 0.18293936550617218; accuracy of 93.53150129318237%\n",
      "------------------------------------------------------------------------\n",
      "Training for fold 8 ...\n",
      "Epoch 1/5\n",
      "450/450 [==============================] - 194s 412ms/step - loss: 0.2388 - accuracy: 0.9288\n",
      "Epoch 2/5\n",
      "450/450 [==============================] - 198s 441ms/step - loss: 0.2006 - accuracy: 0.9313\n",
      "Epoch 3/5\n",
      "450/450 [==============================] - 199s 443ms/step - loss: 0.1956 - accuracy: 0.9338\n",
      "Epoch 4/5\n",
      "450/450 [==============================] - 198s 440ms/step - loss: 0.1888 - accuracy: 0.9352\n",
      "Epoch 5/5\n",
      "450/450 [==============================] - 197s 438ms/step - loss: 0.1876 - accuracy: 0.9362\n",
      "INFO:tensorflow:Assets written to: content_english/models_fasttext/8model/assets\n"
     ]
    },
    {
     "name": "stderr",
     "output_type": "stream",
     "text": [
      "INFO:tensorflow:Assets written to: content_english/models_fasttext/8model/assets\n",
      "WARNING:absl:<keras.layers.recurrent.LSTMCell object at 0x7fdd35b050a0> has the same name 'LSTMCell' as a built-in Keras object. Consider renaming <class 'keras.layers.recurrent.LSTMCell'> to avoid naming conflicts when loading with `tf.keras.models.load_model`. If renaming is not possible, pass the object in the `custom_objects` parameter of the load function.\n",
      "WARNING:absl:<keras.layers.recurrent.LSTMCell object at 0x7fdd35b56430> has the same name 'LSTMCell' as a built-in Keras object. Consider renaming <class 'keras.layers.recurrent.LSTMCell'> to avoid naming conflicts when loading with `tf.keras.models.load_model`. If renaming is not possible, pass the object in the `custom_objects` parameter of the load function.\n"
     ]
    },
    {
     "name": "stdout",
     "output_type": "stream",
     "text": [
      "Score for fold 8: loss of 0.18081310391426086; accuracy of 93.51586699485779%\n",
      "------------------------------------------------------------------------\n",
      "Training for fold 9 ...\n",
      "Epoch 1/5\n",
      "450/450 [==============================] - 205s 436ms/step - loss: 0.2322 - accuracy: 0.9301\n",
      "Epoch 2/5\n",
      "450/450 [==============================] - 197s 439ms/step - loss: 0.1967 - accuracy: 0.9325\n",
      "Epoch 3/5\n",
      "450/450 [==============================] - 195s 434ms/step - loss: 0.1921 - accuracy: 0.9332\n",
      "Epoch 4/5\n",
      "450/450 [==============================] - 194s 431ms/step - loss: 0.1856 - accuracy: 0.9355\n",
      "Epoch 5/5\n",
      "450/450 [==============================] - 194s 431ms/step - loss: 0.1842 - accuracy: 0.9366\n",
      "INFO:tensorflow:Assets written to: content_english/models_fasttext/9model/assets\n"
     ]
    },
    {
     "name": "stderr",
     "output_type": "stream",
     "text": [
      "INFO:tensorflow:Assets written to: content_english/models_fasttext/9model/assets\n",
      "WARNING:absl:<keras.layers.recurrent.LSTMCell object at 0x7fdcf3a2edc0> has the same name 'LSTMCell' as a built-in Keras object. Consider renaming <class 'keras.layers.recurrent.LSTMCell'> to avoid naming conflicts when loading with `tf.keras.models.load_model`. If renaming is not possible, pass the object in the `custom_objects` parameter of the load function.\n",
      "WARNING:absl:<keras.layers.recurrent.LSTMCell object at 0x7fdcfb7de280> has the same name 'LSTMCell' as a built-in Keras object. Consider renaming <class 'keras.layers.recurrent.LSTMCell'> to avoid naming conflicts when loading with `tf.keras.models.load_model`. If renaming is not possible, pass the object in the `custom_objects` parameter of the load function.\n"
     ]
    },
    {
     "name": "stdout",
     "output_type": "stream",
     "text": [
      "Score for fold 9: loss of 0.19933350384235382; accuracy of 93.04444193840027%\n",
      "------------------------------------------------------------------------\n",
      "Training for fold 10 ...\n",
      "Epoch 1/5\n",
      "450/450 [==============================] - 225s 482ms/step - loss: 0.2330 - accuracy: 0.9295\n",
      "Epoch 2/5\n",
      "450/450 [==============================] - 214s 476ms/step - loss: 0.1998 - accuracy: 0.9318\n",
      "Epoch 3/5\n",
      "450/450 [==============================] - 219s 486ms/step - loss: 0.1934 - accuracy: 0.9323\n",
      "Epoch 4/5\n",
      "450/450 [==============================] - 210s 467ms/step - loss: 0.1878 - accuracy: 0.9348\n",
      "Epoch 5/5\n",
      "450/450 [==============================] - 195s 433ms/step - loss: 0.1850 - accuracy: 0.9355\n",
      "INFO:tensorflow:Assets written to: content_english/models_fasttext/10model/assets\n"
     ]
    },
    {
     "name": "stderr",
     "output_type": "stream",
     "text": [
      "INFO:tensorflow:Assets written to: content_english/models_fasttext/10model/assets\n",
      "WARNING:absl:<keras.layers.recurrent.LSTMCell object at 0x7fdd21dd3220> has the same name 'LSTMCell' as a built-in Keras object. Consider renaming <class 'keras.layers.recurrent.LSTMCell'> to avoid naming conflicts when loading with `tf.keras.models.load_model`. If renaming is not possible, pass the object in the `custom_objects` parameter of the load function.\n",
      "WARNING:absl:<keras.layers.recurrent.LSTMCell object at 0x7fdd341a0790> has the same name 'LSTMCell' as a built-in Keras object. Consider renaming <class 'keras.layers.recurrent.LSTMCell'> to avoid naming conflicts when loading with `tf.keras.models.load_model`. If renaming is not possible, pass the object in the `custom_objects` parameter of the load function.\n"
     ]
    },
    {
     "name": "stdout",
     "output_type": "stream",
     "text": [
      "Score for fold 10: loss of 0.17836728692054749; accuracy of 94.2636489868164%\n",
      "------------------------------------------------------------------------\n",
      "Score per fold\n",
      "------------------------------------------------------------------------\n",
      "> Fold 1 - Loss: 0.17571136355400085 - Accuracy: 93.78741383552551%\n",
      "------------------------------------------------------------------------\n",
      "> Fold 2 - Loss: 0.19730144739151 - Accuracy: 93.28171014785767%\n",
      "------------------------------------------------------------------------\n",
      "> Fold 3 - Loss: 0.20718733966350555 - Accuracy: 93.51898431777954%\n",
      "------------------------------------------------------------------------\n",
      "> Fold 4 - Loss: 0.17666363716125488 - Accuracy: 93.82510781288147%\n",
      "------------------------------------------------------------------------\n",
      "> Fold 5 - Loss: 0.18341375887393951 - Accuracy: 93.60918998718262%\n",
      "------------------------------------------------------------------------\n",
      "> Fold 6 - Loss: 0.18754158914089203 - Accuracy: 93.12474727630615%\n",
      "------------------------------------------------------------------------\n",
      "> Fold 7 - Loss: 0.18293936550617218 - Accuracy: 93.53150129318237%\n",
      "------------------------------------------------------------------------\n",
      "> Fold 8 - Loss: 0.18081310391426086 - Accuracy: 93.51586699485779%\n",
      "------------------------------------------------------------------------\n",
      "> Fold 9 - Loss: 0.19933350384235382 - Accuracy: 93.04444193840027%\n",
      "------------------------------------------------------------------------\n",
      "> Fold 10 - Loss: 0.17836728692054749 - Accuracy: 94.2636489868164%\n",
      "------------------------------------------------------------------------\n",
      "Average scores for all folds:\n",
      "> Accuracy: 93.55026125907898 (+- 0.33995952708648886)\n",
      "> Loss: 0.1869272395968437\n",
      "------------------------------------------------------------------------\n"
     ]
    }
   ],
   "source": [
    "# Define the K-fold Cross Validator\n",
    "kfold = KFold(n_splits=num_folds, shuffle=True)\n",
    "\n",
    "# K-fold Cross Validation model evaluation\n",
    "fold_no = 1\n",
    "for train, test in kfold.split(inputs, targets):\n",
    "\n",
    "  # Define the model architecture\n",
    "    model=Sequential()\n",
    "    embedding_layer=Embedding(vocab_size,\n",
    "                        EMBEDDING_DIM,\n",
    "                        embeddings_initializer=Constant(embedding_matrix),\n",
    "                        input_length=60,\n",
    "                        trainable=False)  \n",
    "    model.add(embedding_layer)\n",
    "    model.add(Bidirectional(LSTM(units=128, return_sequences = True, dropout=0.25, recurrent_dropout=0.25)))\n",
    "#     model.add(Bidirectional(GRU(units=128, return_sequences = True, dropout=0.25, recurrent_dropout=0.25)))\n",
    "#     model.add(attention())\n",
    "    model.add(Dense(256, activation='relu'))\n",
    "    model.add(Dropout(0.25))\n",
    "    model.add(Dense(256, activation='relu'))\n",
    "    model.add(Dense(1,activation='sigmoid'))\n",
    "    model.compile(loss='binary_crossentropy',optimizer='adam',metrics=['accuracy'])\n",
    "  # model.summary()\n",
    "\n",
    "  # Generate a print\n",
    "    print('------------------------------------------------------------------------')\n",
    "    print(f'Training for fold {fold_no} ...')\n",
    "\n",
    "  # Fit data to model\n",
    "    history = model.fit(inputs[train], targets[train],\n",
    "              batch_size=batch_size,\n",
    "              epochs=no_epochs,\n",
    "              verbose=verbosity)\n",
    "    model_path = \"content_english/models_fasttext/\" + str(fold_no) + \"model\"\n",
    "    \n",
    "    # convert the history.history dict to a pandas DataFrame:     \n",
    "    hist_df = pd.DataFrame(history.history) \n",
    "\n",
    "    # save to json:  \n",
    "    hist_json_file = \"content_english/History_fasttext/\" + str(fold_no) + 'history.json' \n",
    "    with open(hist_json_file, mode='w') as f:\n",
    "        hist_df.to_json(f)\n",
    "            \n",
    "    #save model\n",
    "    model.save(model_path)\n",
    "    \n",
    "  # Generate generalization metrics\n",
    "    scores = model.evaluate(inputs[test], targets[test], verbose=0)\n",
    "    print(f'Score for fold {fold_no}: {model.metrics_names[0]} of {scores[0]}; {model.metrics_names[1]} of {scores[1]*100}%')\n",
    "    acc_per_fold.append(scores[1] * 100)\n",
    "    loss_per_fold.append(scores[0])\n",
    "  # Increase fold number\n",
    "    fold_no = fold_no + 1\n",
    "\n",
    "  # == Provide average scores ==\n",
    "print('------------------------------------------------------------------------')\n",
    "print('Score per fold')\n",
    "for i in range(0, len(acc_per_fold)):\n",
    "    print('------------------------------------------------------------------------')\n",
    "    print(f'> Fold {i+1} - Loss: {loss_per_fold[i]} - Accuracy: {acc_per_fold[i]}%')\n",
    "print('------------------------------------------------------------------------')\n",
    "print('Average scores for all folds:')\n",
    "print(f'> Accuracy: {np.mean(acc_per_fold)} (+- {np.std(acc_per_fold)})')\n",
    "print(f'> Loss: {np.mean(loss_per_fold)}')\n",
    "print('------------------------------------------------------------------------')"
   ]
  }
 ],
 "metadata": {
  "kernelspec": {
   "display_name": "Python 3 (ipykernel)",
   "language": "python",
   "name": "python3"
  },
  "language_info": {
   "codemirror_mode": {
    "name": "ipython",
    "version": 3
   },
   "file_extension": ".py",
   "mimetype": "text/x-python",
   "name": "python",
   "nbconvert_exporter": "python",
   "pygments_lexer": "ipython3",
   "version": "3.8.10"
  }
 },
 "nbformat": 4,
 "nbformat_minor": 5
}
