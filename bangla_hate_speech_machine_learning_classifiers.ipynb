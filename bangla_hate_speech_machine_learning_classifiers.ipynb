{
  "cells": [
    {
      "cell_type": "markdown",
      "metadata": {
        "id": "view-in-github",
        "colab_type": "text"
      },
      "source": [
        "<a href=\"https://colab.research.google.com/github/golammostafa13/hate_speech_detection/blob/main/bangla_hate_speech_machine_learning_classifiers.ipynb\" target=\"_parent\"><img src=\"https://colab.research.google.com/assets/colab-badge.svg\" alt=\"Open In Colab\"/></a>"
      ]
    },
    {
      "cell_type": "markdown",
      "metadata": {
        "id": "rFZaXypElMs1"
      },
      "source": [
        "# Import and Dataset load"
      ],
      "id": "rFZaXypElMs1"
    },
    {
      "cell_type": "code",
      "execution_count": null,
      "metadata": {
        "id": "ef1c73f1"
      },
      "outputs": [],
      "source": [
        "import pandas as pd\n",
        "import pandas as pd\n",
        "import numpy as np\n",
        "import tensorflow as tf\n",
        "from tensorflow.keras.preprocessing.text import one_hot,Tokenizer\n",
        "from tensorflow.keras.preprocessing.sequence import pad_sequences\n",
        "from tensorflow.keras.layers import Dense , Flatten ,Embedding,Input,LSTM, Bidirectional, Dense, Dropout,GRU,SpatialDropout1D, Conv1D\n",
        "from tensorflow.keras.models import Model, Sequential\n",
        "from tensorflow.keras.preprocessing.text import text_to_word_sequence\n",
        "from tensorflow.keras.initializers import Constant\n",
        "from sklearn.preprocessing import LabelEncoder\n",
        "from keras.utils import np_utils"
      ],
      "id": "ef1c73f1"
    },
    {
      "cell_type": "code",
      "execution_count": null,
      "metadata": {
        "colab": {
          "base_uri": "https://localhost:8080/"
        },
        "id": "1ca2db14",
        "outputId": "6656a27f-0004-4260-c489-e348b09762f6"
      },
      "outputs": [
        {
          "output_type": "stream",
          "name": "stdout",
          "text": [
            "Mounted at /content/drive\n"
          ]
        }
      ],
      "source": [
        "from google.colab import drive\n",
        "drive.mount('/content/drive')"
      ],
      "id": "1ca2db14"
    },
    {
      "cell_type": "code",
      "execution_count": null,
      "metadata": {
        "id": "qnAW0-joogzu"
      },
      "outputs": [],
      "source": [
        "file = '/content/drive/MyDrive/Paper Writing/cleaned_data.csv'\n",
        "data = pd.read_csv(file, encoding='utf-8')"
      ],
      "id": "qnAW0-joogzu"
    },
    {
      "cell_type": "code",
      "execution_count": null,
      "metadata": {
        "colab": {
          "base_uri": "https://localhost:8080/",
          "height": 531
        },
        "id": "PoK1543eJPsT",
        "outputId": "7f515b26-0ce8-4e55-c2e2-62b2a8c3ea96"
      },
      "outputs": [
        {
          "data": {
            "text/html": [
              "\n",
              "  <div id=\"df-4b84f9df-55c2-4b3e-8225-7118c64061b1\">\n",
              "    <div class=\"colab-df-container\">\n",
              "      <div>\n",
              "<style scoped>\n",
              "    .dataframe tbody tr th:only-of-type {\n",
              "        vertical-align: middle;\n",
              "    }\n",
              "\n",
              "    .dataframe tbody tr th {\n",
              "        vertical-align: top;\n",
              "    }\n",
              "\n",
              "    .dataframe thead th {\n",
              "        text-align: right;\n",
              "    }\n",
              "</style>\n",
              "<table border=\"1\" class=\"dataframe\">\n",
              "  <thead>\n",
              "    <tr style=\"text-align: right;\">\n",
              "      <th></th>\n",
              "      <th>Unnamed: 0</th>\n",
              "      <th>sentence</th>\n",
              "      <th>hate</th>\n",
              "      <th>category</th>\n",
              "      <th>cleaned_text</th>\n",
              "      <th>sentenceLength</th>\n",
              "      <th>ReviewChars</th>\n",
              "    </tr>\n",
              "  </thead>\n",
              "  <tbody>\n",
              "    <tr>\n",
              "      <th>0</th>\n",
              "      <td>0</td>\n",
              "      <td>যত্তসব পাপন শালার ফাজলামী!!!!!</td>\n",
              "      <td>1</td>\n",
              "      <td>sports</td>\n",
              "      <td>যত্তসব পাপন শালার ফাজলামী</td>\n",
              "      <td>4</td>\n",
              "      <td>30</td>\n",
              "    </tr>\n",
              "    <tr>\n",
              "      <th>1</th>\n",
              "      <td>1</td>\n",
              "      <td>পাপন শালা রে রিমান্ডে নেওয়া দরকার</td>\n",
              "      <td>1</td>\n",
              "      <td>sports</td>\n",
              "      <td>পাপন শালা রে রিমান্ডে নেওয়া দরকার</td>\n",
              "      <td>6</td>\n",
              "      <td>33</td>\n",
              "    </tr>\n",
              "    <tr>\n",
              "      <th>2</th>\n",
              "      <td>2</td>\n",
              "      <td>জিল্লুর রহমান স্যারের ছেলে এতো বড় জারজ হবে এটা...</td>\n",
              "      <td>1</td>\n",
              "      <td>sports</td>\n",
              "      <td>জিল্লুর রহমান স্যারের ছেলে এতো বড় জারজ হবে এটা...</td>\n",
              "      <td>20</td>\n",
              "      <td>107</td>\n",
              "    </tr>\n",
              "    <tr>\n",
              "      <th>3</th>\n",
              "      <td>3</td>\n",
              "      <td>শালা লুচ্চা দেখতে পাঠার মত দেখা যায়</td>\n",
              "      <td>1</td>\n",
              "      <td>sports</td>\n",
              "      <td>শালা লুচ্চা দেখতে পাঠার মত দেখা যায়</td>\n",
              "      <td>7</td>\n",
              "      <td>35</td>\n",
              "    </tr>\n",
              "    <tr>\n",
              "      <th>4</th>\n",
              "      <td>4</td>\n",
              "      <td>তুই তো শালা গাজা খাইছচ।তুর মার হেডায় খেলবে সাকিব</td>\n",
              "      <td>1</td>\n",
              "      <td>sports</td>\n",
              "      <td>তুই তো শালা গাজা খাইছচ তুর মার হেডায় খেলবে সাকিব</td>\n",
              "      <td>10</td>\n",
              "      <td>48</td>\n",
              "    </tr>\n",
              "  </tbody>\n",
              "</table>\n",
              "</div>\n",
              "      <button class=\"colab-df-convert\" onclick=\"convertToInteractive('df-4b84f9df-55c2-4b3e-8225-7118c64061b1')\"\n",
              "              title=\"Convert this dataframe to an interactive table.\"\n",
              "              style=\"display:none;\">\n",
              "        \n",
              "  <svg xmlns=\"http://www.w3.org/2000/svg\" height=\"24px\"viewBox=\"0 0 24 24\"\n",
              "       width=\"24px\">\n",
              "    <path d=\"M0 0h24v24H0V0z\" fill=\"none\"/>\n",
              "    <path d=\"M18.56 5.44l.94 2.06.94-2.06 2.06-.94-2.06-.94-.94-2.06-.94 2.06-2.06.94zm-11 1L8.5 8.5l.94-2.06 2.06-.94-2.06-.94L8.5 2.5l-.94 2.06-2.06.94zm10 10l.94 2.06.94-2.06 2.06-.94-2.06-.94-.94-2.06-.94 2.06-2.06.94z\"/><path d=\"M17.41 7.96l-1.37-1.37c-.4-.4-.92-.59-1.43-.59-.52 0-1.04.2-1.43.59L10.3 9.45l-7.72 7.72c-.78.78-.78 2.05 0 2.83L4 21.41c.39.39.9.59 1.41.59.51 0 1.02-.2 1.41-.59l7.78-7.78 2.81-2.81c.8-.78.8-2.07 0-2.86zM5.41 20L4 18.59l7.72-7.72 1.47 1.35L5.41 20z\"/>\n",
              "  </svg>\n",
              "      </button>\n",
              "      \n",
              "  <style>\n",
              "    .colab-df-container {\n",
              "      display:flex;\n",
              "      flex-wrap:wrap;\n",
              "      gap: 12px;\n",
              "    }\n",
              "\n",
              "    .colab-df-convert {\n",
              "      background-color: #E8F0FE;\n",
              "      border: none;\n",
              "      border-radius: 50%;\n",
              "      cursor: pointer;\n",
              "      display: none;\n",
              "      fill: #1967D2;\n",
              "      height: 32px;\n",
              "      padding: 0 0 0 0;\n",
              "      width: 32px;\n",
              "    }\n",
              "\n",
              "    .colab-df-convert:hover {\n",
              "      background-color: #E2EBFA;\n",
              "      box-shadow: 0px 1px 2px rgba(60, 64, 67, 0.3), 0px 1px 3px 1px rgba(60, 64, 67, 0.15);\n",
              "      fill: #174EA6;\n",
              "    }\n",
              "\n",
              "    [theme=dark] .colab-df-convert {\n",
              "      background-color: #3B4455;\n",
              "      fill: #D2E3FC;\n",
              "    }\n",
              "\n",
              "    [theme=dark] .colab-df-convert:hover {\n",
              "      background-color: #434B5C;\n",
              "      box-shadow: 0px 1px 3px 1px rgba(0, 0, 0, 0.15);\n",
              "      filter: drop-shadow(0px 1px 2px rgba(0, 0, 0, 0.3));\n",
              "      fill: #FFFFFF;\n",
              "    }\n",
              "  </style>\n",
              "\n",
              "      <script>\n",
              "        const buttonEl =\n",
              "          document.querySelector('#df-4b84f9df-55c2-4b3e-8225-7118c64061b1 button.colab-df-convert');\n",
              "        buttonEl.style.display =\n",
              "          google.colab.kernel.accessAllowed ? 'block' : 'none';\n",
              "\n",
              "        async function convertToInteractive(key) {\n",
              "          const element = document.querySelector('#df-4b84f9df-55c2-4b3e-8225-7118c64061b1');\n",
              "          const dataTable =\n",
              "            await google.colab.kernel.invokeFunction('convertToInteractive',\n",
              "                                                     [key], {});\n",
              "          if (!dataTable) return;\n",
              "\n",
              "          const docLinkHtml = 'Like what you see? Visit the ' +\n",
              "            '<a target=\"_blank\" href=https://colab.research.google.com/notebooks/data_table.ipynb>data table notebook</a>'\n",
              "            + ' to learn more about interactive tables.';\n",
              "          element.innerHTML = '';\n",
              "          dataTable['output_type'] = 'display_data';\n",
              "          await google.colab.output.renderOutput(dataTable, element);\n",
              "          const docLink = document.createElement('div');\n",
              "          docLink.innerHTML = docLinkHtml;\n",
              "          element.appendChild(docLink);\n",
              "        }\n",
              "      </script>\n",
              "    </div>\n",
              "  </div>\n",
              "  "
            ],
            "text/plain": [
              "   Unnamed: 0                                           sentence  hate  \\\n",
              "0           0                     যত্তসব পাপন শালার ফাজলামী!!!!!     1   \n",
              "1           1                  পাপন শালা রে রিমান্ডে নেওয়া দরকার     1   \n",
              "2           2  জিল্লুর রহমান স্যারের ছেলে এতো বড় জারজ হবে এটা...     1   \n",
              "3           3                শালা লুচ্চা দেখতে পাঠার মত দেখা যায়     1   \n",
              "4           4   তুই তো শালা গাজা খাইছচ।তুর মার হেডায় খেলবে সাকিব     1   \n",
              "\n",
              "  category                                       cleaned_text  sentenceLength  \\\n",
              "0   sports                     যত্তসব পাপন শালার ফাজলামী                    4   \n",
              "1   sports                  পাপন শালা রে রিমান্ডে নেওয়া দরকার               6   \n",
              "2   sports  জিল্লুর রহমান স্যারের ছেলে এতো বড় জারজ হবে এটা...              20   \n",
              "3   sports                শালা লুচ্চা দেখতে পাঠার মত দেখা যায়               7   \n",
              "4   sports   তুই তো শালা গাজা খাইছচ তুর মার হেডায় খেলবে সাকিব              10   \n",
              "\n",
              "   ReviewChars  \n",
              "0           30  \n",
              "1           33  \n",
              "2          107  \n",
              "3           35  \n",
              "4           48  "
            ]
          },
          "execution_count": 4,
          "metadata": {},
          "output_type": "execute_result"
        }
      ],
      "source": [
        "data.head()"
      ],
      "id": "PoK1543eJPsT"
    },
    {
      "cell_type": "markdown",
      "metadata": {
        "id": "nXbkYqNGlG-W"
      },
      "source": [
        "# Machine Learning Classifiers"
      ],
      "id": "nXbkYqNGlG-W"
    },
    {
      "cell_type": "code",
      "execution_count": null,
      "metadata": {
        "id": "8041732a"
      },
      "outputs": [],
      "source": [
        "from sklearn.feature_extraction.text import TfidfVectorizer\n",
        "from sklearn.model_selection import train_test_split\n",
        "from sklearn.naive_bayes import MultinomialNB\n",
        "from sklearn.metrics import confusion_matrix,accuracy_score\n",
        "from sklearn.metrics import accuracy_score"
      ],
      "id": "8041732a"
    },
    {
      "cell_type": "code",
      "execution_count": null,
      "metadata": {
        "colab": {
          "base_uri": "https://localhost:8080/"
        },
        "id": "e8617746",
        "outputId": "0b3cf703-0d89-4d4f-c6ed-f781a8731bc8"
      },
      "outputs": [
        {
          "data": {
            "text/plain": [
              "((24000,), (6000,), (24000,), (6000,))"
            ]
          },
          "execution_count": 20,
          "metadata": {},
          "output_type": "execute_result"
        }
      ],
      "source": [
        "from sklearn.model_selection import train_test_split\n",
        "X_train, X_test, y_train, y_test = train_test_split(data['cleaned_text'], data['hate'],random_state = 0,test_size = 0.20)\n",
        "X_train.shape,X_test.shape,y_train.shape,y_test.shape"
      ],
      "id": "e8617746"
    },
    {
      "cell_type": "code",
      "execution_count": null,
      "metadata": {
        "id": "82f71c9c"
      },
      "outputs": [],
      "source": [
        "Tfidf_vect = TfidfVectorizer(max_features=4000)\n",
        "Tfidf_vect.fit(data['cleaned_text'])\n",
        "Train_X_Tfidf = Tfidf_vect.transform(X_train)\n",
        "Test_X_Tfidf = Tfidf_vect.transform(X_test)"
      ],
      "id": "82f71c9c"
    },
    {
      "cell_type": "code",
      "execution_count": null,
      "metadata": {
        "colab": {
          "base_uri": "https://localhost:8080/"
        },
        "id": "52bda299",
        "outputId": "868b10ae-1e39-4bb0-9d88-1caa76af382a"
      },
      "outputs": [
        {
          "name": "stdout",
          "output_type": "stream",
          "text": [
            "Naive Bayes Training Accuracy Score ->  74.75\n",
            "Naive Bayes Test Accuracy Score ->  73.33333333333333\n"
          ]
        }
      ],
      "source": [
        "model = MultinomialNB()\n",
        "model.fit(Train_X_Tfidf,y_train)\n",
        "from sklearn.metrics import accuracy_score\n",
        "\n",
        "predictions_train_NB = model.predict(Train_X_Tfidf)\n",
        "predictions_NB = model.predict(Test_X_Tfidf)\n",
        "print(\"Naive Bayes Training Accuracy Score -> \",accuracy_score(predictions_train_NB, y_train)*100)\n",
        "print(\"Naive Bayes Test Accuracy Score -> \",accuracy_score(predictions_NB, y_test)*100)"
      ],
      "id": "52bda299"
    },
    {
      "cell_type": "code",
      "execution_count": null,
      "metadata": {
        "colab": {
          "base_uri": "https://localhost:8080/"
        },
        "id": "27cc7211",
        "outputId": "2953d726-61e9-414c-af06-2db9752b4aac"
      },
      "outputs": [
        {
          "name": "stdout",
          "output_type": "stream",
          "text": [
            "              precision    recall  f1-score   support\n",
            "\n",
            "           0       0.73      0.96      0.83      4021\n",
            "           1       0.76      0.28      0.41      1979\n",
            "\n",
            "    accuracy                           0.73      6000\n",
            "   macro avg       0.74      0.62      0.62      6000\n",
            "weighted avg       0.74      0.73      0.69      6000\n",
            "\n",
            "[[3844  177]\n",
            " [1423  556]]\n"
          ]
        }
      ],
      "source": [
        "from sklearn.metrics import classification_report, confusion_matrix\n",
        "\n",
        "print(classification_report(y_test,predictions_NB))\n",
        "print(confusion_matrix(y_test,predictions_NB))"
      ],
      "id": "27cc7211"
    },
    {
      "cell_type": "code",
      "execution_count": null,
      "metadata": {
        "colab": {
          "base_uri": "https://localhost:8080/"
        },
        "id": "258e750d",
        "outputId": "7e0b2386-b3c6-411e-c18c-a13023800d56"
      },
      "outputs": [
        {
          "name": "stdout",
          "output_type": "stream",
          "text": [
            "Train Accuracy Score ->  94.55\n",
            "Test Accuracy Score ->  73.88333333333334\n"
          ]
        }
      ],
      "source": [
        "from sklearn.ensemble import RandomForestClassifier\n",
        "\n",
        "RF=RandomForestClassifier(n_estimators=100)\n",
        "RF.fit(Train_X_Tfidf,y_train)\n",
        "pred_y_train = RF.predict(Train_X_Tfidf)\n",
        "pred_y = RF.predict(Test_X_Tfidf)\n",
        "# Use accuracy_score function to get the accuracy\n",
        "print(\"Train Accuracy Score -> \",accuracy_score(pred_y_train, y_train)*100)\n",
        "print(\"Test Accuracy Score -> \",accuracy_score(pred_y, y_test)*100)"
      ],
      "id": "258e750d"
    },
    {
      "cell_type": "code",
      "execution_count": null,
      "metadata": {
        "colab": {
          "base_uri": "https://localhost:8080/"
        },
        "id": "fde37a00",
        "outputId": "106b8307-e7a8-41db-c4da-eec53bfbc677"
      },
      "outputs": [
        {
          "name": "stdout",
          "output_type": "stream",
          "text": [
            "              precision    recall  f1-score   support\n",
            "\n",
            "           0       0.75      0.92      0.83      4021\n",
            "           1       0.70      0.37      0.48      1979\n",
            "\n",
            "    accuracy                           0.74      6000\n",
            "   macro avg       0.72      0.65      0.65      6000\n",
            "weighted avg       0.73      0.74      0.71      6000\n",
            "\n",
            "[[3702  319]\n",
            " [1248  731]]\n"
          ]
        }
      ],
      "source": [
        "from sklearn.metrics import classification_report, confusion_matrix\n",
        "print(classification_report(y_test,pred_y))\n",
        "cf_matrix = confusion_matrix(y_test, pred_y)\n",
        "print(cf_matrix)"
      ],
      "id": "fde37a00"
    },
    {
      "cell_type": "code",
      "execution_count": null,
      "metadata": {
        "colab": {
          "base_uri": "https://localhost:8080/"
        },
        "id": "006d29c1",
        "outputId": "3fec2aa1-a852-471a-b50e-92d5ce82466b"
      },
      "outputs": [
        {
          "name": "stdout",
          "output_type": "stream",
          "text": [
            "Train Accuracy Score ->  94.55\n",
            "Test Accuracy Score ->  68.7\n"
          ]
        }
      ],
      "source": [
        "from sklearn.tree import DecisionTreeClassifier\n",
        "clf = DecisionTreeClassifier()\n",
        "\n",
        "clf = clf.fit(Train_X_Tfidf,y_train)\n",
        "\n",
        "pred_y_train = clf.predict(Train_X_Tfidf)\n",
        "pred_y = clf.predict(Test_X_Tfidf)\n",
        "# Use accuracy_score function to get the accuracy\n",
        "print(\"Train Accuracy Score -> \",accuracy_score(pred_y_train, y_train)*100)\n",
        "print(\"Test Accuracy Score -> \",accuracy_score(pred_y, y_test)*100)"
      ],
      "id": "006d29c1"
    },
    {
      "cell_type": "code",
      "execution_count": null,
      "metadata": {
        "colab": {
          "base_uri": "https://localhost:8080/"
        },
        "id": "204877d9",
        "outputId": "8fdb1530-3d22-4118-a829-db08726ca9bb"
      },
      "outputs": [
        {
          "name": "stdout",
          "output_type": "stream",
          "text": [
            "              precision    recall  f1-score   support\n",
            "\n",
            "           0       0.75      0.80      0.77      4021\n",
            "           1       0.53      0.45      0.49      1979\n",
            "\n",
            "    accuracy                           0.69      6000\n",
            "   macro avg       0.64      0.63      0.63      6000\n",
            "weighted avg       0.68      0.69      0.68      6000\n",
            "\n",
            "[[3230  791]\n",
            " [1087  892]]\n"
          ]
        }
      ],
      "source": [
        "from sklearn.metrics import classification_report, confusion_matrix\n",
        "print(classification_report(y_test,pred_y))\n",
        "cf_matrix = confusion_matrix(y_test, pred_y)\n",
        "print(cf_matrix)"
      ],
      "id": "204877d9"
    },
    {
      "cell_type": "code",
      "execution_count": null,
      "metadata": {
        "colab": {
          "base_uri": "https://localhost:8080/"
        },
        "id": "8IZpp53XKTpV",
        "outputId": "2c7a208c-847c-4f2d-d0b8-4d5af5b78b9c"
      },
      "outputs": [
        {
          "name": "stdout",
          "output_type": "stream",
          "text": [
            "SVM Train Accuracy Score ->  76.27916666666667\n",
            "SVM Test Accuracy Score ->  75.38333333333334\n"
          ]
        }
      ],
      "source": [
        "from sklearn import svm\n",
        "SVM = svm.SVC(C=1.0, kernel='linear', degree=3, gamma='auto')\n",
        "SVM.fit(Train_X_Tfidf,y_train)\n",
        "pred_y_train = SVM.predict(Train_X_Tfidf)\n",
        "pred_y = SVM.predict(Test_X_Tfidf)\n",
        "# Use accuracy_score function to get the accuracy\n",
        "print(\"SVM Train Accuracy Score -> \",accuracy_score(pred_y_train, y_train)*100)\n",
        "print(\"SVM Test Accuracy Score -> \",accuracy_score(pred_y, y_test)*100)"
      ],
      "id": "8IZpp53XKTpV"
    }
  ],
  "metadata": {
    "colab": {
      "name": "bangla hate speech ml and cnn_others.ipynb",
      "provenance": [],
      "collapsed_sections": [],
      "include_colab_link": true
    },
    "kernelspec": {
      "display_name": "Python 3 (ipykernel)",
      "language": "python",
      "name": "python3"
    },
    "language_info": {
      "codemirror_mode": {
        "name": "ipython",
        "version": 3
      },
      "file_extension": ".py",
      "mimetype": "text/x-python",
      "name": "python",
      "nbconvert_exporter": "python",
      "pygments_lexer": "ipython3",
      "version": "3.8.10"
    }
  },
  "nbformat": 4,
  "nbformat_minor": 5
}